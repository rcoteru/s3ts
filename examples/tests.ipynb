{
 "cells": [
  {
   "cell_type": "code",
   "execution_count": 1,
   "metadata": {},
   "outputs": [],
   "source": [
    "import os\n",
    "os.chdir(\"../\")"
   ]
  },
  {
   "cell_type": "code",
   "execution_count": 21,
   "metadata": {},
   "outputs": [],
   "source": [
    "import torch\n",
    "import tslearn\n",
    "import numpy as np\n",
    "import torch"
   ]
  },
  {
   "cell_type": "code",
   "execution_count": 8,
   "metadata": {},
   "outputs": [],
   "source": [
    "from pyts.image import GramianAngularField, MarkovTransitionField"
   ]
  },
  {
   "cell_type": "code",
   "execution_count": 65,
   "metadata": {},
   "outputs": [],
   "source": [
    "from pyts.datasets.load import load_basic_motions\n",
    "from typing import Tuple"
   ]
  },
  {
   "cell_type": "code",
   "execution_count": 5,
   "metadata": {},
   "outputs": [],
   "source": [
    "data = load_basic_motions()"
   ]
  },
  {
   "cell_type": "code",
   "execution_count": 7,
   "metadata": {},
   "outputs": [
    {
     "data": {
      "text/plain": [
       "dict_keys(['data_train', 'target_train', 'data_test', 'target_test', 'DESCR', 'url'])"
      ]
     },
     "execution_count": 7,
     "metadata": {},
     "output_type": "execute_result"
    }
   ],
   "source": [
    "data.keys()"
   ]
  },
  {
   "cell_type": "code",
   "execution_count": 9,
   "metadata": {},
   "outputs": [],
   "source": [
    "X = data[\"data_train\"]"
   ]
  },
  {
   "cell_type": "code",
   "execution_count": 10,
   "metadata": {},
   "outputs": [
    {
     "data": {
      "text/plain": [
       "(40, 6, 100)"
      ]
     },
     "execution_count": 10,
     "metadata": {},
     "output_type": "execute_result"
    }
   ],
   "source": [
    "X.shape"
   ]
  },
  {
   "cell_type": "code",
   "execution_count": 11,
   "metadata": {},
   "outputs": [],
   "source": [
    "tr = GramianAngularField(1.0)"
   ]
  },
  {
   "cell_type": "code",
   "execution_count": 14,
   "metadata": {},
   "outputs": [],
   "source": [
    "X_tr = tr.transform(X.reshape(40*6,-1))"
   ]
  },
  {
   "cell_type": "code",
   "execution_count": 15,
   "metadata": {},
   "outputs": [],
   "source": [
    "import matplotlib.pyplot as plt"
   ]
  },
  {
   "cell_type": "code",
   "execution_count": null,
   "metadata": {},
   "outputs": [],
   "source": [
    "X_mtm = _markov_transition_matrix(X_binned, n_samples,\n",
    "                                    n_timestamps, self.n_bins)\n",
    "sum_mtm = X_mtm.sum(axis=2)\n",
    "np.place(sum_mtm, sum_mtm == 0, 1)\n",
    "X_mtm /= sum_mtm[:, :, None]\n",
    "\n",
    "X_mtf = _markov_transition_field(\n",
    "    X_binned, X_mtm, n_samples, n_timestamps, self.n_bins\n",
    ")\n",
    "\n",
    "window_size, remainder = divmod(n_timestamps, image_size)\n",
    "if remainder == 0:\n",
    "    X_amtf = np.reshape(\n",
    "        X_mtf, (n_samples, image_size, window_size,\n",
    "                image_size, window_size)\n",
    "    ).mean(axis=(2, 4))\n",
    "else:\n",
    "    window_size += 1\n",
    "    start, end, _ = segmentation(\n",
    "        n_timestamps, window_size, self.overlapping, image_size\n",
    "    )\n",
    "    X_amtf = _aggregated_markov_transition_field(\n",
    "        X_mtf, n_samples, image_size, start, end\n",
    "    )\n",
    "if self.flatten:\n",
    "    return X_amtf.reshape(n_samples, -1)\n",
    "return X_amtf"
   ]
  },
  {
   "cell_type": "code",
   "execution_count": 69,
   "metadata": {},
   "outputs": [],
   "source": [
    "@torch.jit.script\n",
    "def minmax_scaler(X: torch.Tensor, range: Tuple[float, float] = (-1, 1)) -> torch.Tensor:\n",
    "    '''\n",
    "        Scales the last dimension of X into the given range X has shape (...,d)\n",
    "        output has the same shape but the last dimension is scaled to the range\n",
    "    '''\n",
    "    X_min = X.min(dim=-1, keepdim=True).values\n",
    "    X_std = (X - X_min)/(X.max(dim=-1, keepdim=True).values - X_min)\n",
    "    return X_std * (range[1] - range[0]) + range[0]"
   ]
  },
  {
   "cell_type": "code",
   "execution_count": null,
   "metadata": {},
   "outputs": [],
   "source": [
    "def _markov_transition_matrix(X_binned, n_samples, n_timestamps, n_bins):\n",
    "    X_mtm = np.zeros((n_samples, n_bins, n_bins))\n",
    "    for i in range(n_samples):\n",
    "        for j in range(n_timestamps - 1):\n",
    "            X_mtm[i, X_binned[i, j], X_binned[i, j + 1]] += 1\n",
    "    return X_mtm\n",
    "\n",
    "\n",
    "@njit()\n",
    "def _markov_transition_field(\n",
    "    X_binned, X_mtm, n_samples, n_timestamps, n_bins\n",
    "):\n",
    "    X_mtf = np.zeros((n_samples, n_timestamps, n_timestamps))\n",
    "    for i in prange(n_samples):\n",
    "        for j in prange(n_timestamps):\n",
    "            for k in prange(n_timestamps):\n",
    "                X_mtf[i, j, k] = X_mtm[i, X_binned[i, j], X_binned[i, k]]\n",
    "    return X_mtf\n",
    "\n",
    "\n",
    "@njit()\n",
    "def _aggregated_markov_transition_field(X_mtf, n_samples, image_size,\n",
    "                                        start, end):\n",
    "    X_amtf = np.empty((n_samples, image_size, image_size))\n",
    "    for i in prange(n_samples):\n",
    "        for j in prange(image_size):\n",
    "            for k in prange(image_size):\n",
    "                X_amtf[i, j, k] = np.mean(\n",
    "                    X_mtf[i, start[j]:end[j], start[k]:end[k]]\n",
    "                )\n",
    "    return X_amtf"
   ]
  },
  {
   "cell_type": "code",
   "execution_count": null,
   "metadata": {},
   "outputs": [],
   "source": [
    "def mtf_compute(X: torch.Tensor, bins: int = 50, scaling: Tuple[float, float] = (-1, 1)) -> torch.Tensor:\n",
    "    '''\n",
    "        Computes the Markov Transition Field of time series X, per sample, per channel\n",
    "        input has shape (...,N, d, window_size) (any number of leading dimensions)\n",
    "        output has shape (..., N, d, window_size, window_size)\n",
    "\n",
    "        Bins are uniformly spaced then computes the MTF\n",
    "    '''\n",
    "\n",
    "    X_scaled = minmax_scaler(X, scaling)\n",
    "    bins_boundaries = torch.arange(-1, 1, 2/(bins - 1))\n",
    "\n",
    "    X_binned = torch.bucketize(X_scaled, bins_boundaries)\n",
    "    n_bins = X_binned.shape[-1]\n",
    "\n",
    "    # compute markov transition matrix\n",
    "    current_bin = X_binned[..., :-1].view(-1, n_bins)\n",
    "    next_bin = X_binned[..., 1:].view(-1, n_bins)\n",
    "\n",
    "    X_mtm = torch.zeros(X_binned.shape[:-1] + (n_bins, n_bins))\n",
    "    original_shape = X_mtm.shape\n",
    "    X_mtm = X_mtm.reshape(-1, X_mtm.shape[-1], X_mtm.shape[-1]) # (n, bins, bins)\n",
    "\n",
    "    X_mtm.view(-1, X_mtm.shape[-1], X_mtm.shape[-1]).scatter_add(1, current_bin, torch.ones_like(current_bin))\n",
    "    X_mtm.view(-1, X_mtm.shape[-1], X_mtm.shape[-1]).scatter_add(2, next_bin, torch.ones_like(next_bin))\n",
    "\n",
    "    for i in range(X_mtm.shape[0]):\n",
    "        X_mtm[i, current_bin[i], next_bin[i]] += 1\n",
    "\n",
    "    X_mtm = X_mtm.reshape(original_shape)"
   ]
  },
  {
   "cell_type": "code",
   "execution_count": 80,
   "metadata": {},
   "outputs": [],
   "source": [
    "a = torch.randn(10, 5, 25)"
   ]
  },
  {
   "cell_type": "code",
   "execution_count": 81,
   "metadata": {},
   "outputs": [],
   "source": [
    "a_scaled = minmax_scaler(a, (-1, 1))"
   ]
  },
  {
   "cell_type": "code",
   "execution_count": 106,
   "metadata": {},
   "outputs": [],
   "source": [
    "a_binned = torch.bucketize(a_scaled, torch.arange(-1, 1, 2/(30 - 1)))"
   ]
  },
  {
   "cell_type": "code",
   "execution_count": 108,
   "metadata": {},
   "outputs": [
    {
     "data": {
      "text/plain": [
       "tensor(0)"
      ]
     },
     "execution_count": 108,
     "metadata": {},
     "output_type": "execute_result"
    }
   ],
   "source": [
    "a_binned.min()"
   ]
  },
  {
   "cell_type": "code",
   "execution_count": 109,
   "metadata": {},
   "outputs": [],
   "source": [
    "a_current = a_binned[..., :-1]\n",
    "a_next = a_binned[..., 1:]"
   ]
  },
  {
   "cell_type": "code",
   "execution_count": 110,
   "metadata": {},
   "outputs": [
    {
     "data": {
      "text/plain": [
       "torch.Size([10, 5, 25, 25])"
      ]
     },
     "execution_count": 110,
     "metadata": {},
     "output_type": "execute_result"
    }
   ],
   "source": [
    "a.shape + a.shape[-1:]"
   ]
  },
  {
   "cell_type": "code",
   "execution_count": 111,
   "metadata": {},
   "outputs": [],
   "source": [
    "def _markov_transition_matrix(X_binned, n_samples, n_timestamps, n_bins):\n",
    "    X_mtm = np.zeros((n_samples, n_bins, n_bins))\n",
    "    for i in range(n_samples):\n",
    "        for j in range(n_timestamps - 1):\n",
    "            X_mtm[i, X_binned[i, j], X_binned[i, j + 1]] += 1\n",
    "    return X_mtm"
   ]
  },
  {
   "cell_type": "code",
   "execution_count": 179,
   "metadata": {},
   "outputs": [],
   "source": [
    "a_mtm = torch.zeros(a_binned.shape + (30, 30))"
   ]
  },
  {
   "cell_type": "code",
   "execution_count": 188,
   "metadata": {},
   "outputs": [
    {
     "data": {
      "text/plain": [
       "torch.Size([10, 5, 25, 30, 30])"
      ]
     },
     "execution_count": 188,
     "metadata": {},
     "output_type": "execute_result"
    }
   ],
   "source": [
    "a_mtm.shape"
   ]
  },
  {
   "cell_type": "code",
   "execution_count": 145,
   "metadata": {},
   "outputs": [
    {
     "data": {
      "text/plain": [
       "torch.float32"
      ]
     },
     "execution_count": 145,
     "metadata": {},
     "output_type": "execute_result"
    }
   ],
   "source": [
    "a_mtm.dtype"
   ]
  },
  {
   "cell_type": "code",
   "execution_count": 184,
   "metadata": {},
   "outputs": [],
   "source": [
    "indices = 30 * a_current.reshape(-1, 24) + a_next.reshape(-1, 24)"
   ]
  },
  {
   "cell_type": "code",
   "execution_count": 185,
   "metadata": {},
   "outputs": [
    {
     "data": {
      "text/plain": [
       "torch.Size([50, 24])"
      ]
     },
     "execution_count": 185,
     "metadata": {},
     "output_type": "execute_result"
    }
   ],
   "source": [
    "indices.shape"
   ]
  },
  {
   "cell_type": "code",
   "execution_count": 191,
   "metadata": {},
   "outputs": [
    {
     "data": {
      "text/plain": [
       "torch.Size([50, 25, 900])"
      ]
     },
     "execution_count": 191,
     "metadata": {},
     "output_type": "execute_result"
    }
   ],
   "source": [
    "a_mtm.view(50, 25, a_mtm.shape[-1]*a_mtm.shape[-1]).shape"
   ]
  },
  {
   "cell_type": "code",
   "execution_count": 181,
   "metadata": {},
   "outputs": [
    {
     "ename": "RuntimeError",
     "evalue": "Index tensor must have the same number of dimensions as src tensor",
     "output_type": "error",
     "traceback": [
      "\u001b[0;31m---------------------------------------------------------------------------\u001b[0m",
      "\u001b[0;31mRuntimeError\u001b[0m                              Traceback (most recent call last)",
      "Cell \u001b[0;32mIn[181], line 1\u001b[0m\n\u001b[0;32m----> 1\u001b[0m \u001b[43ma_mtm\u001b[49m\u001b[38;5;241;43m.\u001b[39;49m\u001b[43mview\u001b[49m\u001b[43m(\u001b[49m\u001b[38;5;241;43m-\u001b[39;49m\u001b[38;5;241;43m1\u001b[39;49m\u001b[43m,\u001b[49m\u001b[43m \u001b[49m\u001b[43ma_mtm\u001b[49m\u001b[38;5;241;43m.\u001b[39;49m\u001b[43mshape\u001b[49m\u001b[43m[\u001b[49m\u001b[38;5;241;43m-\u001b[39;49m\u001b[38;5;241;43m1\u001b[39;49m\u001b[43m]\u001b[49m\u001b[38;5;241;43m*\u001b[39;49m\u001b[43ma_mtm\u001b[49m\u001b[38;5;241;43m.\u001b[39;49m\u001b[43mshape\u001b[49m\u001b[43m[\u001b[49m\u001b[38;5;241;43m-\u001b[39;49m\u001b[38;5;241;43m1\u001b[39;49m\u001b[43m]\u001b[49m\u001b[43m)\u001b[49m\u001b[38;5;241;43m.\u001b[39;49m\u001b[43mscatter_add_\u001b[49m\u001b[43m(\u001b[49m\u001b[38;5;241;43m1\u001b[39;49m\u001b[43m,\u001b[49m\u001b[43m \u001b[49m\u001b[43mindices\u001b[49m\u001b[43m,\u001b[49m\u001b[43m \u001b[49m\u001b[43mtorch\u001b[49m\u001b[38;5;241;43m.\u001b[39;49m\u001b[43mones_like\u001b[49m\u001b[43m(\u001b[49m\u001b[43ma_mtm\u001b[49m\u001b[43m)\u001b[49m\u001b[43m)\u001b[49m\n\u001b[1;32m      2\u001b[0m \u001b[38;5;28mprint\u001b[39m()\n",
      "\u001b[0;31mRuntimeError\u001b[0m: Index tensor must have the same number of dimensions as src tensor"
     ]
    }
   ],
   "source": [
    "a_mtm.view(-1, a_mtm.shape[-1]*a_mtm.shape[-1]).scatter_add_(1, indices, torch.ones_like(a_mtm))\n",
    "print()"
   ]
  },
  {
   "cell_type": "code",
   "execution_count": 171,
   "metadata": {},
   "outputs": [
    {
     "data": {
      "text/plain": [
       "tensor(240.)"
      ]
     },
     "execution_count": 171,
     "metadata": {},
     "output_type": "execute_result"
    }
   ],
   "source": [
    "a_mtm[0, 0].sum()"
   ]
  },
  {
   "cell_type": "code",
   "execution_count": 157,
   "metadata": {},
   "outputs": [
    {
     "data": {
      "text/plain": [
       "torch.Size([10, 5, 25])"
      ]
     },
     "execution_count": 157,
     "metadata": {},
     "output_type": "execute_result"
    }
   ],
   "source": [
    "a_binned.shape"
   ]
  },
  {
   "cell_type": "code",
   "execution_count": 158,
   "metadata": {},
   "outputs": [
    {
     "data": {
      "text/plain": [
       "1250"
      ]
     },
     "execution_count": 158,
     "metadata": {},
     "output_type": "execute_result"
    }
   ],
   "source": [
    "50*25"
   ]
  },
  {
   "cell_type": "code",
   "execution_count": 159,
   "metadata": {},
   "outputs": [
    {
     "data": {
      "text/plain": [
       "tensor(2400.)"
      ]
     },
     "execution_count": 159,
     "metadata": {},
     "output_type": "execute_result"
    }
   ],
   "source": [
    "a_mtm.sum()"
   ]
  },
  {
   "cell_type": "code",
   "execution_count": 170,
   "metadata": {},
   "outputs": [
    {
     "data": {
      "text/plain": [
       "24.0"
      ]
     },
     "execution_count": 170,
     "metadata": {},
     "output_type": "execute_result"
    }
   ],
   "source": [
    "_markov_transition_matrix(a_binned.reshape(50, 25), 50, 25, 30)[0].sum()"
   ]
  },
  {
   "cell_type": "code",
   "execution_count": 77,
   "metadata": {},
   "outputs": [
    {
     "data": {
      "text/plain": [
       "torch.Size([100])"
      ]
     },
     "execution_count": 77,
     "metadata": {},
     "output_type": "execute_result"
    }
   ],
   "source": [
    "torch.arange(-1, 1, 1/50).shape"
   ]
  }
 ],
 "metadata": {
  "kernelspec": {
   "display_name": "ssstsc",
   "language": "python",
   "name": "python3"
  },
  "language_info": {
   "codemirror_mode": {
    "name": "ipython",
    "version": 3
   },
   "file_extension": ".py",
   "mimetype": "text/x-python",
   "name": "python",
   "nbconvert_exporter": "python",
   "pygments_lexer": "ipython3",
   "version": "3.10.13"
  }
 },
 "nbformat": 4,
 "nbformat_minor": 2
}
