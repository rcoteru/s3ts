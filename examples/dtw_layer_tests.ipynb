{
 "cells": [
  {
   "cell_type": "code",
   "execution_count": 1,
   "metadata": {},
   "outputs": [],
   "source": [
    "import os\n",
    "os.chdir(\"../\")"
   ]
  },
  {
   "cell_type": "code",
   "execution_count": 2,
   "metadata": {},
   "outputs": [],
   "source": [
    "from storage.har_datasets import STSDataset, StreamingTimeSeries, StreamingTimeSeriesCopy\n",
    "from s3ts.dtw_layer.lightningstsds import LSTSDataset\n",
    "from s3ts.dtw_layer.dtw_layer import DTWLayer\n",
    "from s3ts.dtw_layer.wrapper import lmodel\n",
    "from pytorch_lightning import Trainer"
   ]
  },
  {
   "cell_type": "code",
   "execution_count": 3,
   "metadata": {},
   "outputs": [
    {
     "name": "stdout",
     "output_type": "stream",
     "text": [
      "Loading 'BasicMotions' from cache...\n",
      "(80, 6, 100) (80,) 4\n",
      "(6, 6000) (6000,)\n"
     ]
    }
   ],
   "source": [
    "from s3ts.api.ucr import load_ucr_classification\n",
    "from s3ts.api.ts2sts import finite_random_STS\n",
    "import numpy as np\n",
    "import torch\n",
    "\n",
    "X, Y, mapping = load_ucr_classification(\"BasicMotions\")\n",
    "#X, Y, mapping = load_ucr_classification(\"GunPoint\")\n",
    "print(X.shape, Y.shape, len(np.unique(Y)))\n",
    "\n",
    "STS, SCS = finite_random_STS(X, Y, length=60)\n",
    "print(STS.shape, SCS.shape)"
   ]
  },
  {
   "cell_type": "code",
   "execution_count": 4,
   "metadata": {},
   "outputs": [],
   "source": [
    "ds = StreamingTimeSeries(STS, SCS, wsize=32, wstride=1)"
   ]
  },
  {
   "cell_type": "code",
   "execution_count": 5,
   "metadata": {},
   "outputs": [],
   "source": [
    "indices_shuffled = np.arange(ds.indices.shape[0])[:5000]\n",
    "np.random.shuffle(indices_shuffled)\n",
    "\n",
    "data_split = {\n",
    "    \"train\": lambda x: np.isin(x, indices_shuffled),\n",
    "    \"val\": lambda x: np.isin(x, np.arange(ds.indices.shape[0])[5064:5500]),\n",
    "    \"test\": lambda x: np.isin(x, np.arange(ds.indices.shape[0])[5064:]),\n",
    "}\n",
    "\n",
    "dm = LSTSDataset(ds, data_split=data_split, batch_size=32, random_seed=42, num_workers=16)"
   ]
  },
  {
   "cell_type": "code",
   "execution_count": 6,
   "metadata": {},
   "outputs": [],
   "source": [
    "model = torch.nn.Sequential(\n",
    "    DTWLayer(8, 6, 16, l_out=16, rho=0.01),\n",
    "    torch.nn.Conv2d(in_channels=8, out_channels=32, kernel_size=5),\n",
    "    torch.nn.ReLU(),\n",
    "    torch.nn.Conv2d(in_channels=32, out_channels=64, kernel_size=5),\n",
    "    torch.nn.ReLU(),\n",
    "    torch.nn.MaxPool2d(kernel_size=2),\n",
    "    torch.nn.Conv2d(in_channels=64, out_channels=128, kernel_size=4),\n",
    "    torch.nn.Flatten(),\n",
    "    torch.nn.Linear(in_features=128, out_features=4)\n",
    ")"
   ]
  },
  {
   "cell_type": "code",
   "execution_count": 7,
   "metadata": {},
   "outputs": [
    {
     "name": "stderr",
     "output_type": "stream",
     "text": [
      "GPU available: False, used: False\n",
      "TPU available: False, using: 0 TPU cores\n",
      "IPU available: False, using: 0 IPUs\n",
      "HPU available: False, using: 0 HPUs\n"
     ]
    }
   ],
   "source": [
    "trainer = Trainer(max_epochs=50, accelerator=\"auto\")\n",
    "model_lightning = lmodel(model, 4, lr=0.001)"
   ]
  },
  {
   "cell_type": "code",
   "execution_count": 8,
   "metadata": {},
   "outputs": [
    {
     "name": "stderr",
     "output_type": "stream",
     "text": [
      "\n",
      "  | Name       | Type               | Params\n",
      "--------------------------------------------------\n",
      "0 | model      | Sequential         | 190 K \n",
      "1 | softmax    | Softmax            | 0     \n",
      "2 | train_acc  | MulticlassAccuracy | 0     \n",
      "3 | train_f1   | MulticlassF1Score  | 0     \n",
      "4 | val_acc    | MulticlassAccuracy | 0     \n",
      "5 | val_f1     | MulticlassF1Score  | 0     \n",
      "6 | val_auroc  | MulticlassAUROC    | 0     \n",
      "7 | test_acc   | MulticlassAccuracy | 0     \n",
      "8 | test_f1    | MulticlassF1Score  | 0     \n",
      "9 | test_auroc | MulticlassAUROC    | 0     \n",
      "--------------------------------------------------\n",
      "190 K     Trainable params\n",
      "0         Non-trainable params\n",
      "190 K     Total params\n",
      "0.761     Total estimated model params size (MB)\n"
     ]
    },
    {
     "name": "stdout",
     "output_type": "stream",
     "text": [
      "Epoch 14:  65%|██████▍   | 101/156 [00:03<00:02, 25.27it/s, v_num=2, train_loss_step=0.366, val_loss=0.485, val_acc=0.878, val_auroc=0.128, train_loss_epoch=0.416, train_acc=0.876]"
     ]
    }
   ],
   "source": [
    "trainer.fit(model=model_lightning, datamodule=dm)"
   ]
  }
 ],
 "metadata": {
  "kernelspec": {
   "display_name": "env",
   "language": "python",
   "name": "python3"
  },
  "language_info": {
   "codemirror_mode": {
    "name": "ipython",
    "version": 3
   },
   "file_extension": ".py",
   "mimetype": "text/x-python",
   "name": "python",
   "nbconvert_exporter": "python",
   "pygments_lexer": "ipython3",
   "version": "3.10.13"
  }
 },
 "nbformat": 4,
 "nbformat_minor": 2
}
