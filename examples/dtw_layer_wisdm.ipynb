{
 "cells": [
  {
   "cell_type": "code",
   "execution_count": 1,
   "metadata": {},
   "outputs": [],
   "source": [
    "import os\n",
    "os.chdir(\"../\")"
   ]
  },
  {
   "cell_type": "code",
   "execution_count": 2,
   "metadata": {},
   "outputs": [],
   "source": [
    "import numpy as np\n",
    "import torch"
   ]
  },
  {
   "cell_type": "code",
   "execution_count": 3,
   "metadata": {},
   "outputs": [],
   "source": [
    "from storage.har_datasets import STSDataset, StreamingTimeSeries, StreamingTimeSeriesCopy, WISDMDataset\n",
    "from s3ts.dtw_layer.lightningstsds import LSTSDataset\n",
    "from s3ts.dtw_layer.dtw_layer import DTWLayer\n",
    "from s3ts.dtw_layer.wrapper import lmodel\n",
    "from pytorch_lightning import Trainer\n",
    "import numpy as np\n",
    "import torch"
   ]
  },
  {
   "cell_type": "code",
   "execution_count": 4,
   "metadata": {},
   "outputs": [],
   "source": [
    "# this dataset comes at 20hz\n",
    "ds = WISDMDataset(\"./datasets/WISDM/\", wsize=80, normalize=True, label_mapping=None)"
   ]
  },
  {
   "cell_type": "code",
   "execution_count": 5,
   "metadata": {},
   "outputs": [],
   "source": [
    "data_split = {\n",
    "    \"train\": lambda x: x<1000000,\n",
    "    \"val\": lambda x: (x>=1000000) * (x<1050000),\n",
    "    \"test\": lambda x: x>=1050000\n",
    "}\n",
    "\n",
    "dm = LSTSDataset(ds, data_split=data_split, batch_size=128, random_seed=42, num_workers=8)"
   ]
  },
  {
   "cell_type": "code",
   "execution_count": 6,
   "metadata": {},
   "outputs": [
    {
     "data": {
      "text/plain": [
       "1096768"
      ]
     },
     "execution_count": 6,
     "metadata": {},
     "output_type": "execute_result"
    }
   ],
   "source": [
    "len(dm.ds_train) + len(dm.ds_val) + len(dm.ds_test)"
   ]
  },
  {
   "cell_type": "code",
   "execution_count": 9,
   "metadata": {},
   "outputs": [],
   "source": [
    "model = torch.nn.Sequential(\n",
    "    DTWLayer(8, 3, 40, l_out=40, rho=0.01),\n",
    "    torch.nn.Conv2d(in_channels=8, out_channels=32, kernel_size=5), # out 36x36\n",
    "    torch.nn.ReLU(),\n",
    "    torch.nn.MaxPool2d(kernel_size=2), # out 18x18\n",
    "    torch.nn.Conv2d(in_channels=32, out_channels=64, kernel_size=5), # out 14x14\n",
    "    torch.nn.ReLU(),\n",
    "    torch.nn.MaxPool2d(kernel_size=2), # out 7x7\n",
    "    torch.nn.Conv2d(in_channels=64, out_channels=128, kernel_size=5), # out 3x3 \n",
    "    torch.nn.ReLU(),\n",
    "    torch.nn.Flatten(),\n",
    "    torch.nn.Linear(in_features=128*9, out_features=12)\n",
    ")"
   ]
  },
  {
   "cell_type": "code",
   "execution_count": 10,
   "metadata": {},
   "outputs": [
    {
     "name": "stderr",
     "output_type": "stream",
     "text": [
      "GPU available: False, used: False\n",
      "TPU available: False, using: 0 TPU cores\n",
      "IPU available: False, using: 0 IPUs\n",
      "HPU available: False, using: 0 HPUs\n",
      "\n",
      "  | Name       | Type               | Params\n",
      "--------------------------------------------------\n",
      "0 | model      | Sequential         | 277 K \n",
      "1 | softmax    | Softmax            | 0     \n",
      "2 | train_acc  | MulticlassAccuracy | 0     \n",
      "3 | train_f1   | MulticlassF1Score  | 0     \n",
      "4 | val_acc    | MulticlassAccuracy | 0     \n",
      "5 | val_f1     | MulticlassF1Score  | 0     \n",
      "6 | val_auroc  | MulticlassAUROC    | 0     \n",
      "7 | test_acc   | MulticlassAccuracy | 0     \n",
      "8 | test_f1    | MulticlassF1Score  | 0     \n",
      "9 | test_auroc | MulticlassAUROC    | 0     \n",
      "--------------------------------------------------\n",
      "277 K     Trainable params\n",
      "0         Non-trainable params\n",
      "277 K     Total params\n",
      "1.110     Total estimated model params size (MB)\n"
     ]
    },
    {
     "name": "stdout",
     "output_type": "stream",
     "text": [
      "Sanity Checking: 0it [00:00, ?it/s]"
     ]
    },
    {
     "name": "stdout",
     "output_type": "stream",
     "text": [
      "Epoch 0:   2%|▏         | 182/7803 [00:31<21:58,  5.78it/s, v_num=53, train_loss_step=0.889]"
     ]
    }
   ],
   "source": [
    "trainer = Trainer(max_epochs=50, accelerator=\"auto\")\n",
    "model_lightning = lmodel(model, 12, lr=0.001)\n",
    "trainer.fit(model=model_lightning, datamodule=dm)"
   ]
  }
 ],
 "metadata": {
  "kernelspec": {
   "display_name": "ssstsc",
   "language": "python",
   "name": "python3"
  },
  "language_info": {
   "codemirror_mode": {
    "name": "ipython",
    "version": 3
   },
   "file_extension": ".py",
   "mimetype": "text/x-python",
   "name": "python",
   "nbconvert_exporter": "python",
   "pygments_lexer": "ipython3",
   "version": "3.10.13"
  }
 },
 "nbformat": 4,
 "nbformat_minor": 2
}
