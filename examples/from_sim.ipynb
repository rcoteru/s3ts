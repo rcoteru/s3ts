{
 "cells": [
  {
   "cell_type": "code",
   "execution_count": 1,
   "metadata": {},
   "outputs": [
    {
     "name": "stdout",
     "output_type": "stream",
     "text": [
      "Loading 'BasicMotions' from cache...\n",
      "(80, 6, 100) (80,) 4\n"
     ]
    }
   ],
   "source": [
    "from s3ts.api.ucr import load_ucr_classification\n",
    "\n",
    "import numpy as np\n",
    "X, Y, mapping = load_ucr_classification(\"BasicMotions\")\n",
    "#X, Y, mapping = load_ucr_classification(\"GunPoint\")\n",
    "print(X.shape, Y.shape, len(np.unique(Y)))"
   ]
  },
  {
   "cell_type": "code",
   "execution_count": 2,
   "metadata": {},
   "outputs": [
    {
     "name": "stdout",
     "output_type": "stream",
     "text": [
      "(4, 1, 6, 100) (4, 6, 100)\n"
     ]
    }
   ],
   "source": [
    "from s3ts.api.ts2sts import compute_medoids\n",
    "meds, meds_idx = compute_medoids(X, Y, meds_per_class=1, metric=\"dtw\")\n",
    "patts = meds.squeeze(1)\n",
    "print(meds.shape, patts.shape)"
   ]
  },
  {
   "cell_type": "code",
   "execution_count": 3,
   "metadata": {},
   "outputs": [],
   "source": [
    "from s3ts.api.simulation import StreamSimulator\n",
    "from s3ts.api.ts2sts import inf_random_STS\n",
    "from s3ts.api.encodings import compute_DM\n",
    "\n",
    "sim = StreamSimulator(X, Y, patts, 10, 1, inf_random_STS, compute_DM,\n",
    "                image_args={\"rho\": 0.1, \"metric\": \"squared\"})"
   ]
  },
  {
   "cell_type": "code",
   "execution_count": 9,
   "metadata": {},
   "outputs": [],
   "source": [
    "from s3ts.api.simulation import samples_from_simulator\n",
    "\n",
    "series, frames, labels = samples_from_simulator(sim=sim, \n",
    "        nsamp=3000, mode=\"det\", every_n=20)"
   ]
  },
  {
   "cell_type": "code",
   "execution_count": 10,
   "metadata": {},
   "outputs": [
    {
     "data": {
      "text/plain": [
       "(3000, 6, 10)"
      ]
     },
     "execution_count": 10,
     "metadata": {},
     "output_type": "execute_result"
    }
   ],
   "source": [
    "series.shape"
   ]
  }
 ],
 "metadata": {
  "kernelspec": {
   "display_name": "env",
   "language": "python",
   "name": "python3"
  },
  "language_info": {
   "codemirror_mode": {
    "name": "ipython",
    "version": 3
   },
   "file_extension": ".py",
   "mimetype": "text/x-python",
   "name": "python",
   "nbconvert_exporter": "python",
   "pygments_lexer": "ipython3",
   "version": "3.10.12"
  }
 },
 "nbformat": 4,
 "nbformat_minor": 2
}
