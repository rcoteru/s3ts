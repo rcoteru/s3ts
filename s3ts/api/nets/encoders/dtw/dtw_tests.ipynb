{
 "cells": [
  {
   "cell_type": "code",
   "execution_count": 1,
   "metadata": {},
   "outputs": [],
   "source": [
    "import torch\n",
    "from typing import List"
   ]
  },
  {
   "cell_type": "code",
   "execution_count": 2,
   "metadata": {},
   "outputs": [],
   "source": [
    "def dtw_compute(dist_tensor: torch.Tensor, grad_tensor: torch.Tensor, w: float) -> None:\n",
    "    print(dist_tensor.shape)\n",
    "    for i in range(1, dist_tensor.shape[0]):\n",
    "        for j in range(1, dist_tensor.shape[1]):\n",
    "            value = torch.minimum(w * torch.minimum(dist_tensor[i, j-1], dist_tensor[i-1, j-1]), dist_tensor[i-1, j])\n",
    "            id = (w * dist_tensor[i, j-1] < dist_tensor[i-1, j]) & (dist_tensor[i, j-1] < dist_tensor[i-1, j-1])\n",
    "\n",
    "            dist_tensor[i, j] += value\n",
    "\n",
    "            grad_tensor[id][:, :, i, j] += w * grad_tensor[id][:, :, i, j-1]\n",
    "\n",
    "def torch_dtw_fast(x: torch.Tensor, y: torch.Tensor, w: float, eps: float = 1e-5):\n",
    "    # shape of x (n, dim, x_len) y (m, dim, y_len)\n",
    "\n",
    "    # performs convolution-like operation, for each kernel the DF\n",
    "    # (of shape (kernel_size, T)) is computed, then summed across channels\n",
    "    # x has shape (batch, c, time_dimension)\n",
    "\n",
    "    # compute pairwise diffs (squared)\n",
    "    p_diff = x[:,None,:,None,:] - y[None,:,:,:,None] # shape (n, n_kernel, d, Kernel_size, T)\n",
    "    euc_d = torch.square(p_diff).sum(2) # shape (n, n_kernel, kernel_size, T)\n",
    "\n",
    "    # p_diff contains the partial derivatives of DTW[n, k, i, j] wrt K[k, d, i] (dims (n, k, d, i, j))\n",
    "    p_diff = p_diff / torch.sqrt(euc_d[:,:, None, :, :] + eps)\n",
    "\n",
    "    # compute dtw\n",
    "    euc_d[:,:,0,:] = torch.cumsum(euc_d[:,:,0,:], dim=2)\n",
    "    euc_d[:,:,:,0] = torch.cumsum(euc_d[:,:,:,0], dim=2)\n",
    "\n",
    "    # rearrange dims\n",
    "    DTW = torch.permute(euc_d, (2, 3, 0, 1)).contiguous()\n",
    "\n",
    "    dtw_compute(DTW, p_diff, w)\n",
    "\n",
    "    # recover dimensions\n",
    "    DTW = torch.permute(DTW, (2, 3, 0, 1)).contiguous()\n",
    "\n",
    "    return DTW.sqrt(), p_diff\n",
    "\n",
    "class torch_dtw(torch.autograd.Function):\n",
    "\n",
    "    @staticmethod\n",
    "    def forward(x, y, w):\n",
    "        DTW, p_diff = torch_dtw_fast(x, y, w)\n",
    "        return DTW, p_diff\n",
    "    \n",
    "    @staticmethod\n",
    "    def setup_context(ctx, inputs, output):\n",
    "        DTW, p_diff = output\n",
    "        ctx.save_for_backward(p_diff)\n",
    "    \n",
    "    @staticmethod\n",
    "    def backward(ctx, dtw_grad, p_diff_grad):\n",
    "        p_diff, = ctx.saved_tensors\n",
    "        mult = (p_diff * dtw_grad[:,:,None,:,:])\n",
    "        return mult.mean(dim=(1, 3)), mult.mean(dim=(0, 4)), None"
   ]
  },
  {
   "cell_type": "code",
   "execution_count": 16,
   "metadata": {},
   "outputs": [],
   "source": [
    "@torch.jit.script\n",
    "def dtw_compute2(dtw: torch.Tensor, dist_grad: torch.Tensor, grad: torch.Tensor, w: float) -> None:\n",
    "    '''\n",
    "        dtw of shape (num_kernels, pattern_len, window_size)\n",
    "        dist_grad of shape (num_kernels, dims, pattern_len, window_size)\n",
    "        grad of shape (num_kernels, dims, pattern_len)\n",
    "    '''\n",
    "    grads = torch.empty(dtw.shape[0], dist_grad.shape[1], dtw.shape[1], dtw.shape[1], dtw.shape[2]) # shape (num_kernels, dims, pattern_len, pattern_len, window_size)\n",
    "\n",
    "    for i in range(dtw.shape[1]):\n",
    "        grads[:, :, i, i, :] = torch.cumsum(dist_grad[:, :, i, :], dim=2)\n",
    "        grads[:, :, i, i:, 0] = grads[:, :, i, i, :1]\n",
    "\n",
    "    for i in range(1, dtw.shape[1]): # pl\n",
    "        for j in range(1, dtw.shape[2]): # ws\n",
    "            value = torch.minimum(w * torch.minimum(dtw[:, i, j-1], dtw[:, i-1, j-1]), dtw[:, i-1, j])\n",
    "            temp_1 = dtw[:, i, j-1] < dtw[:, i-1, j-1] # path (i, j-1) or (i-1, j)\n",
    "            temp_2 = w * dtw[:, i, j-1] < dtw[:, i-1, j] # path (i, j-1) or (i-1, j-1)\n",
    "            temp_3 = w * dtw[:, i-1, j-1] < dtw[:, i-1, j] # path (i-1, j-1) or (i-1, j)\n",
    "\n",
    "            dtw[:, i, j] += value\n",
    "\n",
    "            grads[temp_1 & temp_2][:, :, i, j] += w * grads[temp_1 & temp_2][:, :, i, j-1]\n",
    "            grads[temp_1 & temp_3][:, :, i, j] += grads[temp_1 & temp_3][:, :, i-1, j]\n",
    "            grads[temp_2 & temp_3][:, :, i, j] += w * grads[temp_2 & temp_3][:, :, i-1, j-1]\n",
    "\n",
    "    grad = grads.sum(dim=(-2, -1))\n",
    "\n",
    "@torch.jit.script\n",
    "def torch_dtw_fast2(x: torch.Tensor, y: torch.Tensor, w: float, eps: float = 1e-5):\n",
    "    # shape of x (n, dim, x_len) y (m, dim, y_len)\n",
    "\n",
    "    # performs convolution-like operation, for each kernel the DF\n",
    "    # (of shape (kernel_size, T)) is computed, then summed across channels\n",
    "    # x has shape (batch, c, time_dimension)\n",
    "\n",
    "    # compute pairwise diffs (squared)\n",
    "    p_diff = x[:,None,:,None,:] - y[None,:,:,:,None] # shape (n, n_kernel, d, Kernel_size, T)\n",
    "    euc_d = torch.square(p_diff).sum(2) # shape (n, n_kernel, kernel_size, T)\n",
    "\n",
    "    # p_diff now contains the partial derivatives of DTW[n, k, i, j] wrt K[k, d, i] (dims (n, k, d, i, j))\n",
    "    p_diff = p_diff / torch.sqrt(euc_d[:,:, None, :, :] + eps)\n",
    "\n",
    "    # compute dtw\n",
    "    euc_d[:,:,0,:] = torch.cumsum(euc_d[:,:,0,:], dim=2)\n",
    "    euc_d[:,:,:,0] = torch.cumsum(euc_d[:,:,:,0], dim=2)\n",
    "\n",
    "    grads = torch.empty(x.shape[0], y.shape[0], y.shape[1], y.shape[2])\n",
    "\n",
    "    futures = [torch.jit.fork(dtw_compute2, euc_d[i], p_diff[i], grads[i], w) for i in range(x.shape[0])]\n",
    "    results = [torch.jit.wait(future) for future in futures]\n",
    "\n",
    "    return euc_d.sqrt(), grads.sum(0)"
   ]
  },
  {
   "cell_type": "code",
   "execution_count": 4,
   "metadata": {},
   "outputs": [],
   "source": [
    "def dtw_compute2(dtw: torch.Tensor, dist_grad: torch.Tensor, grad: torch.Tensor, w: float) -> None:\n",
    "    '''\n",
    "        dtw of shape (num_kernels, pattern_len, window_size)\n",
    "        dist_grad of shape (num_kernels, dims, pattern_len, window_size)\n",
    "        grad of shape (num_kernels, dims, pattern_len)\n",
    "    '''\n",
    "    grads = torch.empty(dist_grad.shape[1], dtw.shape[1], dtw.shape[1], dtw.shape[2]) # shape (dims, pattern_len, pattern_len, window_size)\n",
    "    print(grads.numel())\n",
    "\n",
    "    for k in range(dtw.shape[0]): # num_kernels\n",
    "        grads.zero_()\n",
    "\n",
    "        for i in range(dtw.shape[1]):\n",
    "            grads[:, i, i, :] = torch.cumsum(dist_grad[k, :, i, :], dim=1)\n",
    "            grads[:, i, i:, 0] = grads[:, i, i, :1]\n",
    "\n",
    "        for i in range(1, dtw.shape[1]): # wl\n",
    "            for j in range(1, dtw.shape[2]): # ws\n",
    "                value = torch.minimum(w * torch.minimum(dtw[k, i, j-1], dtw[k, i-1, j-1]), dtw[k, i-1, j])\n",
    "                temp_1 = dtw[k, i, j-1] < dtw[k, i-1, j-1] # path (i, j-1) or (i-1, j)\n",
    "                temp_2 = w * dtw[k, i, j-1] < dtw[k, i-1, j] # path (i, j-1) or (i-1, j-1)\n",
    "                temp_3 = w * dtw[k, i-1, j-1] < dtw[k, i-1, j] # path (i-1, j-1) or (i-1, j)\n",
    "\n",
    "                dtw[k, i, j] += value\n",
    "\n",
    "                if temp_1 and temp_2: # path is (i, j-1)\n",
    "                    grads[:, :, i, j] += w * grads[:, :, i, j-1]\n",
    "                elif temp_1 and temp_3: # path is (i-1, j)\n",
    "                    grads[:, :, i, j] += grads[:, :, i-1, j]\n",
    "                else: # path is (i-1, j-1)\n",
    "                    grads[:, :, i, j] += w * grads[:, :, i-1, j-1]\n",
    "\n",
    "        grad[k] += grads.sum(dim=(-2, -1))"
   ]
  },
  {
   "cell_type": "code",
   "execution_count": 5,
   "metadata": {},
   "outputs": [],
   "source": [
    "dtw = torch.randn(10, 15, 20)\n",
    "dist_grad = torch.randn(10, 6, 15, 20)\n",
    "grad = torch.randn(10, 6, 15)"
   ]
  },
  {
   "cell_type": "code",
   "execution_count": 35,
   "metadata": {},
   "outputs": [],
   "source": [
    "x = torch.randn(128, 3, 50)\n",
    "y = torch.randn(30, 3, 50)"
   ]
  },
  {
   "cell_type": "code",
   "execution_count": 37,
   "metadata": {},
   "outputs": [],
   "source": [
    "a, b = torch_dtw_fast2(x, y, w=0.01, eps=1e-6)"
   ]
  },
  {
   "cell_type": "code",
   "execution_count": 65,
   "metadata": {},
   "outputs": [
    {
     "name": "stdout",
     "output_type": "stream",
     "text": [
      "torch.Size([25, 20, 10, 15])\n"
     ]
    }
   ],
   "source": [
    "a1, b1  = torch_dtw_fast(x, y, w=0.01, eps=1e-6)"
   ]
  },
  {
   "cell_type": "code",
   "execution_count": 16,
   "metadata": {},
   "outputs": [
    {
     "data": {
      "text/plain": [
       "37748736"
      ]
     },
     "execution_count": 16,
     "metadata": {},
     "output_type": "execute_result"
    }
   ],
   "source": [
    "a.numel()"
   ]
  }
 ],
 "metadata": {
  "kernelspec": {
   "display_name": "ssstsc",
   "language": "python",
   "name": "python3"
  },
  "language_info": {
   "codemirror_mode": {
    "name": "ipython",
    "version": 3
   },
   "file_extension": ".py",
   "mimetype": "text/x-python",
   "name": "python",
   "nbconvert_exporter": "python",
   "pygments_lexer": "ipython3",
   "version": "3.10.13"
  }
 },
 "nbformat": 4,
 "nbformat_minor": 2
}
