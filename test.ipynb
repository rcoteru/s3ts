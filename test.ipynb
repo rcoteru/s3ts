{
 "cells": [
  {
   "cell_type": "code",
   "execution_count": 1,
   "metadata": {},
   "outputs": [],
   "source": [
    "import numpy as np\n",
    "import torch\n",
    "\n",
    "from s3ts.helper_functions import *"
   ]
  },
  {
   "cell_type": "code",
   "execution_count": 2,
   "metadata": {},
   "outputs": [
    {
     "name": "stdout",
     "output_type": "stream",
     "text": [
      "Loaded dataset WISDM with a total of 1096480 observations for window size 48\n",
      "Using 443636 observations for training and 154375 observations for validation and test\n"
     ]
    }
   ],
   "source": [
    "dm = load_tsdataset(\"WISDM\", \"./datasets/\", 128, 8, 48, 1, True, None, [30, 31, 32, 33, 34, 35], True)"
   ]
  },
  {
   "cell_type": "code",
   "execution_count": 3,
   "metadata": {},
   "outputs": [
    {
     "data": {
      "text/plain": [
       "(tensor([0, 1, 2, 3, 4, 5]),\n",
       " tensor([88291, 88486, 50063, 40441, 88335, 88020]))"
      ]
     },
     "execution_count": 3,
     "metadata": {},
     "output_type": "execute_result"
    }
   ],
   "source": [
    "dm.stsds.SCS[dm.stsds.indices[dm.ds_train.indices]].unique(return_counts=True)"
   ]
  },
  {
   "cell_type": "code",
   "execution_count": 4,
   "metadata": {},
   "outputs": [
    {
     "data": {
      "text/plain": [
       "(tensor([0, 1, 2, 3, 4, 5]),\n",
       " tensor([12077, 38519,  9828,  7857, 14484, 71610]))"
      ]
     },
     "execution_count": 4,
     "metadata": {},
     "output_type": "execute_result"
    }
   ],
   "source": [
    "dm.stsds.SCS[dm.stsds.indices[dm.ds_test.indices]].unique(return_counts=True)"
   ]
  },
  {
   "cell_type": "code",
   "execution_count": 5,
   "metadata": {},
   "outputs": [
    {
     "name": "stdout",
     "output_type": "stream",
     "text": [
      "Input shape:  torch.Size([1, 3, 48])\n",
      "Latent shape:  torch.Size([1, 80, 12])\n",
      "[tensor(960), 64, 64, 6]\n"
     ]
    }
   ],
   "source": [
    "from s3ts.api.nets.methods import create_model_from_DM, train_model\n",
    "\n",
    "model = create_model_from_DM(dm, \"ts\", \"cnn\", \"mlp\", \"cls\", \"test\", 20, 64, 2, 0.001)"
   ]
  },
  {
   "cell_type": "code",
   "execution_count": 6,
   "metadata": {},
   "outputs": [
    {
     "name": "stderr",
     "output_type": "stream",
     "text": [
      "Global seed set to 42\n",
      "GPU available: False, used: False\n",
      "TPU available: False, using: 0 TPU cores\n",
      "IPU available: False, using: 0 IPUs\n",
      "HPU available: False, using: 0 HPUs\n",
      "\n",
      "   | Name        | Type                 | Params\n",
      "------------------------------------------------------\n",
      "0  | encoder     | CNN_TS               | 12.9 K\n",
      "1  | decoder     | MultiLayerPerceptron | 66.1 K\n",
      "2  | flatten     | Flatten              | 0     \n",
      "3  | softmax     | Softmax              | 0     \n",
      "4  | train_acc   | MulticlassAccuracy   | 0     \n",
      "5  | train_f1    | MulticlassF1Score    | 0     \n",
      "6  | train_auroc | MulticlassAUROC      | 0     \n",
      "7  | val_acc     | MulticlassAccuracy   | 0     \n",
      "8  | val_f1      | MulticlassF1Score    | 0     \n",
      "9  | val_auroc   | MulticlassAUROC      | 0     \n",
      "10 | test_acc    | MulticlassAccuracy   | 0     \n",
      "11 | test_f1     | MulticlassF1Score    | 0     \n",
      "12 | test_auroc  | MulticlassAUROC      | 0     \n",
      "------------------------------------------------------\n",
      "79.0 K    Trainable params\n",
      "0         Non-trainable params\n",
      "79.0 K    Total params\n",
      "0.316     Total estimated model params size (MB)\n"
     ]
    },
    {
     "name": "stdout",
     "output_type": "stream",
     "text": [
      "Epoch 4: 100%|██████████| 3466/3466 [01:04<00:00, 53.63it/s, v_num=3, train_loss_step=0.221, val_loss=0.665, val_acc=0.864, val_auroc=0.0125, train_loss_epoch=0.223, train_acc=0.922, train_auroc=0.993] "
     ]
    },
    {
     "name": "stderr",
     "output_type": "stream",
     "text": [
      "`Trainer.fit` stopped: `max_epochs=5` reached.\n"
     ]
    },
    {
     "name": "stdout",
     "output_type": "stream",
     "text": [
      "Epoch 4: 100%|██████████| 3466/3466 [01:04<00:00, 53.61it/s, v_num=3, train_loss_step=0.221, val_loss=0.665, val_acc=0.864, val_auroc=0.0125, train_loss_epoch=0.223, train_acc=0.922, train_auroc=0.993]\n",
      "Input shape:  torch.Size([1, 3, 48])\n",
      "Latent shape:  torch.Size([1, 80, 12])\n",
      "[tensor(960), 64, 64, 6]\n",
      "Validation DataLoader 0: 100%|██████████| 1207/1207 [00:09<00:00, 128.71it/s]\n"
     ]
    },
    {
     "data": {
      "text/html": [
       "<pre style=\"white-space:pre;overflow-x:auto;line-height:normal;font-family:Menlo,'DejaVu Sans Mono',consolas,'Courier New',monospace\">┏━━━━━━━━━━━━━━━━━━━━━━━━━━━┳━━━━━━━━━━━━━━━━━━━━━━━━━━━┓\n",
       "┃<span style=\"font-weight: bold\">      Validate metric      </span>┃<span style=\"font-weight: bold\">       DataLoader 0        </span>┃\n",
       "┡━━━━━━━━━━━━━━━━━━━━━━━━━━━╇━━━━━━━━━━━━━━━━━━━━━━━━━━━┩\n",
       "│<span style=\"color: #008080; text-decoration-color: #008080\">          val_acc          </span>│<span style=\"color: #800080; text-decoration-color: #800080\">    0.8639352321624756     </span>│\n",
       "│<span style=\"color: #008080; text-decoration-color: #008080\">         val_auroc         </span>│<span style=\"color: #800080; text-decoration-color: #800080\">   0.012527707032859325    </span>│\n",
       "│<span style=\"color: #008080; text-decoration-color: #008080\">          val_f1           </span>│<span style=\"color: #800080; text-decoration-color: #800080\">    0.8639352321624756     </span>│\n",
       "│<span style=\"color: #008080; text-decoration-color: #008080\">         val_loss          </span>│<span style=\"color: #800080; text-decoration-color: #800080\">    0.6652042865753174     </span>│\n",
       "└───────────────────────────┴───────────────────────────┘\n",
       "</pre>\n"
      ],
      "text/plain": [
       "┏━━━━━━━━━━━━━━━━━━━━━━━━━━━┳━━━━━━━━━━━━━━━━━━━━━━━━━━━┓\n",
       "┃\u001b[1m \u001b[0m\u001b[1m     Validate metric     \u001b[0m\u001b[1m \u001b[0m┃\u001b[1m \u001b[0m\u001b[1m      DataLoader 0       \u001b[0m\u001b[1m \u001b[0m┃\n",
       "┡━━━━━━━━━━━━━━━━━━━━━━━━━━━╇━━━━━━━━━━━━━━━━━━━━━━━━━━━┩\n",
       "│\u001b[36m \u001b[0m\u001b[36m         val_acc         \u001b[0m\u001b[36m \u001b[0m│\u001b[35m \u001b[0m\u001b[35m   0.8639352321624756    \u001b[0m\u001b[35m \u001b[0m│\n",
       "│\u001b[36m \u001b[0m\u001b[36m        val_auroc        \u001b[0m\u001b[36m \u001b[0m│\u001b[35m \u001b[0m\u001b[35m  0.012527707032859325   \u001b[0m\u001b[35m \u001b[0m│\n",
       "│\u001b[36m \u001b[0m\u001b[36m         val_f1          \u001b[0m\u001b[36m \u001b[0m│\u001b[35m \u001b[0m\u001b[35m   0.8639352321624756    \u001b[0m\u001b[35m \u001b[0m│\n",
       "│\u001b[36m \u001b[0m\u001b[36m        val_loss         \u001b[0m\u001b[36m \u001b[0m│\u001b[35m \u001b[0m\u001b[35m   0.6652042865753174    \u001b[0m\u001b[35m \u001b[0m│\n",
       "└───────────────────────────┴───────────────────────────┘\n"
      ]
     },
     "metadata": {},
     "output_type": "display_data"
    },
    {
     "data": {
      "text/plain": [
       "(WrapperModel(\n",
       "   (encoder): CNN_TS(\n",
       "     (cnn_0): Sequential(\n",
       "       (0): Conv1d(3, 10, kernel_size=(3,), stride=(1,), padding=same)\n",
       "       (1): ReLU()\n",
       "       (2): MaxPool1d(kernel_size=2, stride=2, padding=0, dilation=1, ceil_mode=False)\n",
       "     )\n",
       "     (cnn_1): Sequential(\n",
       "       (0): Conv1d(10, 20, kernel_size=(3,), stride=(1,), padding=same)\n",
       "       (1): ReLU()\n",
       "       (2): AvgPool1d(kernel_size=(2,), stride=(2,), padding=(0,))\n",
       "       (3): Dropout(p=0.35, inplace=False)\n",
       "     )\n",
       "     (cnn_2): Sequential(\n",
       "       (0): Conv1d(20, 40, kernel_size=(3,), stride=(1,), padding=same)\n",
       "       (1): BatchNorm1d(40, eps=1e-05, momentum=0.1, affine=True, track_running_stats=True)\n",
       "       (2): ReLU()\n",
       "       (3): Dropout(p=0.4, inplace=False)\n",
       "     )\n",
       "     (cnn_3): Conv1d(40, 80, kernel_size=(3,), stride=(1,), padding=same)\n",
       "   )\n",
       "   (decoder): MultiLayerPerceptron(\n",
       "     (fcn_layer_0): Linear(in_features=960, out_features=64, bias=True)\n",
       "     (act_layer_0): ReLU()\n",
       "     (fcn_layer_1): Linear(in_features=64, out_features=64, bias=True)\n",
       "     (act_layer_1): ReLU()\n",
       "     (fcn_out): Linear(in_features=64, out_features=6, bias=True)\n",
       "   )\n",
       "   (flatten): Flatten(start_dim=1, end_dim=-1)\n",
       "   (softmax): Softmax(dim=None)\n",
       "   (train_acc): MulticlassAccuracy()\n",
       "   (train_f1): MulticlassF1Score()\n",
       "   (train_auroc): MulticlassAUROC()\n",
       "   (val_acc): MulticlassAccuracy()\n",
       "   (val_f1): MulticlassF1Score()\n",
       "   (val_auroc): MulticlassAUROC()\n",
       "   (test_acc): MulticlassAccuracy()\n",
       "   (test_f1): MulticlassF1Score()\n",
       "   (test_auroc): MulticlassAUROC()\n",
       " ),\n",
       " {'val_acc': 0.8639352321624756,\n",
       "  'val_f1': 0.8639352321624756,\n",
       "  'val_auroc': 0.012527707032859325})"
      ]
     },
     "execution_count": 6,
     "metadata": {},
     "output_type": "execute_result"
    }
   ],
   "source": [
    "train_model(dm, model, 5)"
   ]
  },
  {
   "cell_type": "code",
   "execution_count": 7,
   "metadata": {},
   "outputs": [],
   "source": [
    "model.eval()\n",
    "\n",
    "out = torch.zeros((len(dm.ds_test), 6))\n",
    "lb = torch.zeros(len(dm.ds_test))\n",
    "for i in range(len(dm.ds_test)):\n",
    "    d = dm.ds_test[i]\n",
    "    out[i, :] = model.logits(d[\"series\"].unsqueeze(0))[0]\n",
    "    lb[i] = d[\"label\"]"
   ]
  },
  {
   "cell_type": "code",
   "execution_count": 8,
   "metadata": {},
   "outputs": [],
   "source": [
    "import torchmetrics as tm"
   ]
  },
  {
   "cell_type": "code",
   "execution_count": 9,
   "metadata": {},
   "outputs": [],
   "source": [
    "confm = tm.ConfusionMatrix(task=\"multiclass\", num_classes=6)"
   ]
  },
  {
   "cell_type": "code",
   "execution_count": 10,
   "metadata": {},
   "outputs": [],
   "source": [
    "acc = tm.Accuracy(task=\"multiclass\", num_classes=6, average=\"macro\")"
   ]
  },
  {
   "cell_type": "code",
   "execution_count": 11,
   "metadata": {},
   "outputs": [],
   "source": [
    "p = tm.Precision(task=\"multiclass\", num_classes=6, average=\"macro\")\n",
    "r = tm.Recall(task=\"multiclass\", num_classes=6, average=\"macro\")"
   ]
  },
  {
   "cell_type": "code",
   "execution_count": 12,
   "metadata": {},
   "outputs": [],
   "source": [
    "auroc = tm.AUROC(task=\"multiclass\", num_classes=6, average=\"macro\")"
   ]
  },
  {
   "cell_type": "code",
   "execution_count": 13,
   "metadata": {},
   "outputs": [
    {
     "data": {
      "text/plain": [
       "(tensor([0., 1., 2., 3., 4., 5.]),\n",
       " tensor([12077, 38521,  9826,  7854, 14484, 71613]))"
      ]
     },
     "execution_count": 13,
     "metadata": {},
     "output_type": "execute_result"
    }
   ],
   "source": [
    "lb.unique(return_counts=True)"
   ]
  },
  {
   "cell_type": "code",
   "execution_count": 14,
   "metadata": {},
   "outputs": [
    {
     "data": {
      "text/plain": [
       "tensor([[ 8765,   140,    44,    40,  2531,   557],\n",
       "        [  870, 36989,     0,     0,   504,   158],\n",
       "        [   36,     0,  8700,    78,  1012,     0],\n",
       "        [   17,     0,    21,  7796,    20,     0],\n",
       "        [ 1836,    18,    57,    81, 10766,  1726],\n",
       "        [ 6397,   201,   266,     0,  4395, 60354]])"
      ]
     },
     "execution_count": 14,
     "metadata": {},
     "output_type": "execute_result"
    }
   ],
   "source": [
    "confm(out, lb)"
   ]
  },
  {
   "cell_type": "code",
   "execution_count": 15,
   "metadata": {},
   "outputs": [
    {
     "data": {
      "text/plain": [
       "tensor(0.9608)"
      ]
     },
     "execution_count": 15,
     "metadata": {},
     "output_type": "execute_result"
    }
   ],
   "source": [
    "auroc(out, lb.long())"
   ]
  },
  {
   "cell_type": "code",
   "execution_count": 16,
   "metadata": {},
   "outputs": [
    {
     "data": {
      "text/plain": [
       "tensor(0.8583)"
      ]
     },
     "execution_count": 16,
     "metadata": {},
     "output_type": "execute_result"
    }
   ],
   "source": [
    "acc(out, lb.long())"
   ]
  },
  {
   "cell_type": "code",
   "execution_count": 17,
   "metadata": {},
   "outputs": [
    {
     "data": {
      "text/plain": [
       "tensor(0.8222)"
      ]
     },
     "execution_count": 17,
     "metadata": {},
     "output_type": "execute_result"
    }
   ],
   "source": [
    "p(out, lb.long())"
   ]
  },
  {
   "cell_type": "code",
   "execution_count": 18,
   "metadata": {},
   "outputs": [
    {
     "data": {
      "text/plain": [
       "tensor(0.8583)"
      ]
     },
     "execution_count": 18,
     "metadata": {},
     "output_type": "execute_result"
    }
   ],
   "source": [
    "r(out, lb.long())"
   ]
  }
 ],
 "metadata": {
  "kernelspec": {
   "display_name": "ssstsc",
   "language": "python",
   "name": "python3"
  },
  "language_info": {
   "codemirror_mode": {
    "name": "ipython",
    "version": 3
   },
   "file_extension": ".py",
   "mimetype": "text/x-python",
   "name": "python",
   "nbconvert_exporter": "python",
   "pygments_lexer": "ipython3",
   "version": "3.10.13"
  }
 },
 "nbformat": 4,
 "nbformat_minor": 2
}
