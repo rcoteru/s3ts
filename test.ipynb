{
 "cells": [
  {
   "cell_type": "code",
   "execution_count": 1,
   "metadata": {},
   "outputs": [],
   "source": [
    "import os\n",
    "from time import time\n",
    "import yaml\n",
    "\n",
    "from argparse import ArgumentParser, Namespace\n",
    "\n",
    "from s3ts.api.nets.wrapper import WrapperModel\n",
    "from s3ts.helper_functions import load_dm, str_time, get_parser\n",
    "\n",
    "from pytorch_lightning import Trainer\n",
    "from pytorch_lightning.utilities.model_summary import summarize\n",
    "\n",
    "from s3ts.helper_functions import get_model\n",
    "\n",
    "import torch\n",
    "import numpy as np\n",
    "\n",
    "import matplotlib.pyplot as plt"
   ]
  },
  {
   "cell_type": "code",
   "execution_count": 2,
   "metadata": {},
   "outputs": [],
   "source": [
    "p = get_parser()"
   ]
  },
  {
   "cell_type": "code",
   "execution_count": 3,
   "metadata": {},
   "outputs": [],
   "source": [
    "args = p.parse_args(\"--mode ts --dataset UCI-HAR --lr 0.001 --subjects_for_test 21 --window_size 32 --window_stride 2 --batch_size 128 --encoder_architecture cnn_gap --encoder_features 20 --decoder_architecture mlp --decoder_features 32 --decoder_layers 1 --pattern_size 32 --rho 0.1 --compute_n 300 --pattern_type syn --num_workers 8 --max_epochs 3 --normalize --reduce_imbalance --training_dir training_cv2 --n_val_subjects 4 --weight_decayL1 0 --weight_decayL2 0\".split())"
   ]
  },
  {
   "cell_type": "code",
   "execution_count": 4,
   "metadata": {},
   "outputs": [
    {
     "name": "stdout",
     "output_type": "stream",
     "text": [
      "Loaded dataset UCI-HAR with a total of 815614 observations for window size 32\n",
      "Sampling 59084 (balanced) observations per epoch.\n",
      "Using 708997 observations for training, 106617 for validation and 25512 observations for test\n",
      "1787 number of class changes\n"
     ]
    }
   ],
   "source": [
    "dm = load_dm(args)\n",
    "\n",
    "class_changes = [0] + list(np.nonzero(np.diff(dm.stsds.SCS))[0])\n",
    "print(len(class_changes), \"number of class changes\")"
   ]
  },
  {
   "cell_type": "code",
   "execution_count": 5,
   "metadata": {},
   "outputs": [
    {
     "data": {
      "text/plain": [
       "52569"
      ]
     },
     "execution_count": 5,
     "metadata": {},
     "output_type": "execute_result"
    }
   ],
   "source": [
    "dm.ds_val.indices[0]"
   ]
  },
  {
   "cell_type": "code",
   "execution_count": null,
   "metadata": {},
   "outputs": [],
   "source": []
  },
  {
   "cell_type": "code",
   "execution_count": 6,
   "metadata": {},
   "outputs": [
    {
     "data": {
      "text/plain": [
       "array([ 0,  1,  2,  3,  4,  5,  6,  7,  8,  9, 10, 11])"
      ]
     },
     "execution_count": 6,
     "metadata": {},
     "output_type": "execute_result"
    }
   ],
   "source": [
    "np.unique(dm.stsds.SCS[dm.stsds.indices])"
   ]
  },
  {
   "cell_type": "code",
   "execution_count": 7,
   "metadata": {},
   "outputs": [
    {
     "data": {
      "text/plain": [
       "array([ 52569,  52570,  52571, ..., 579803, 579804, 579805])"
      ]
     },
     "execution_count": 7,
     "metadata": {},
     "output_type": "execute_result"
    }
   ],
   "source": [
    "dm.ds_val.indices"
   ]
  },
  {
   "cell_type": "code",
   "execution_count": 8,
   "metadata": {},
   "outputs": [
    {
     "data": {
      "text/plain": [
       "74718"
      ]
     },
     "execution_count": 8,
     "metadata": {},
     "output_type": "execute_result"
    }
   ],
   "source": [
    "dm.stsds.indices[52569]"
   ]
  },
  {
   "cell_type": "code",
   "execution_count": 9,
   "metadata": {},
   "outputs": [
    {
     "data": {
      "text/plain": [
       "tensor([100, 100, 100, 100, 100, 100, 100, 100,   4])"
      ]
     },
     "execution_count": 9,
     "metadata": {},
     "output_type": "execute_result"
    }
   ],
   "source": [
    "dm.stsds.SCS[74710:74719]"
   ]
  },
  {
   "cell_type": "code",
   "execution_count": 14,
   "metadata": {},
   "outputs": [
    {
     "name": "stdout",
     "output_type": "stream",
     "text": [
      "74655 74719\n"
     ]
    },
    {
     "data": {
      "text/plain": [
       "(tensor([[ 0.5052,  0.5227,  0.4456,  0.5192,  0.4456,  0.4035,  0.3965,  0.4210,\n",
       "           0.5893,  0.3229,  0.2808,  0.4210,  0.4351,  0.5192,  0.5192,  0.4140,\n",
       "           0.3965,  0.6454,  0.5367,  0.5332,  0.5017,  0.6139,  0.4701,  0.2036,\n",
       "           0.3755,  0.2703,  0.0879,  0.8313,  0.5437,  0.3088,  0.3755,  0.2668],\n",
       "         [-0.8961, -0.9184, -0.8701, -0.7067, -0.6807, -0.7996, -0.8144, -0.9036,\n",
       "          -0.6993, -0.6882, -0.5731, -0.6176, -0.7439, -0.7439, -0.7439, -0.5582,\n",
       "          -0.4802, -0.4691, -0.4319, -0.4059, -0.5656, -0.3614, -0.5396, -0.4282,\n",
       "          -0.4616, -0.4691, -0.5248, -0.8219, -0.8144, -0.7142, -0.7884, -0.8850],\n",
       "         [-0.5556, -0.4824, -0.4207, -0.4515, -0.4631, -0.4361, -0.6057, -0.4593,\n",
       "          -0.5132, -0.4246, -0.5016, -0.6134, -0.3976, -0.4284, -0.4284, -0.3205,\n",
       "          -0.4708, -0.6828, -0.6404, -0.6866, -0.6558, -0.7829, -0.7020, -0.0315,\n",
       "          -0.1433, -0.6673, -0.5402, -0.5171, -0.6982, -0.5826, -0.6558, -0.6018],\n",
       "         [-0.0296, -0.1616, -0.1069, -0.0948, -0.0701, -0.1432, -0.1485, -0.4420,\n",
       "           0.0135,  0.0035,  0.1535,  0.3428, -0.0790, -0.0212,  0.0256,  0.0398,\n",
       "          -0.1195,  0.1582,  0.0646,  0.0099,  0.1056, -0.0159, -0.1990, -0.0327,\n",
       "          -0.1095, -0.0569,  0.1519,  0.2676,  0.1850,  0.2539,  0.3091,  0.2113],\n",
       "         [-0.0119,  0.3616,  0.0042, -0.3263, -0.2316, -0.4022,  0.2588,  0.2810,\n",
       "           0.1513, -0.1403, -0.0234,  0.9474,  0.1453,  0.0163,  0.0902, -0.9162,\n",
       "          -1.4355, -0.8584, -0.8396, -0.6192,  0.2615,  1.4573,  3.4149,  0.4556,\n",
       "          -2.1059, -0.3525, -0.1913, -0.9182,  0.6988,  0.7788,  1.8409,  1.4391],\n",
       "         [-0.6633, -0.9559, -0.5678, -0.3243, -0.2822, -0.0387, -0.2892, -0.6545,\n",
       "          -0.2866, -0.3549, -0.7947, -0.2314, -0.8008, -1.3676, -1.2362, -1.0864,\n",
       "          -1.4911, -0.5380,  0.3258,  0.7489,  0.1549,  0.6867,  0.5895,  0.3074,\n",
       "           0.1427,  1.1738,  2.7454,  1.7677,  1.1019,  0.5684, -0.7097, -3.0636]]),\n",
       " tensor([100, 100, 100, 100, 100, 100, 100, 100, 100, 100, 100, 100, 100, 100,\n",
       "         100, 100, 100, 100, 100, 100, 100, 100, 100, 100, 100, 100, 100, 100,\n",
       "         100, 100, 100, 100]))"
      ]
     },
     "execution_count": 14,
     "metadata": {},
     "output_type": "execute_result"
    }
   ],
   "source": [
    "dm.stsds[dm.ds_val.indices[0]]"
   ]
  },
  {
   "cell_type": "code",
   "execution_count": 62,
   "metadata": {},
   "outputs": [],
   "source": [
    "stride = 2\n",
    "wsize = 5\n",
    "a = 74718-wsize*stride+stride"
   ]
  },
  {
   "cell_type": "code",
   "execution_count": 60,
   "metadata": {},
   "outputs": [
    {
     "name": "stdout",
     "output_type": "stream",
     "text": [
      "tensor([100, 100, 100, 100,   4])\n",
      "torch.Size([5])\n"
     ]
    }
   ],
   "source": [
    "print(dm.stsds.SCS[a:(74718+1):stride])\n",
    "print(dm.stsds.SCS[a:(74718+1):stride].shape)"
   ]
  },
  {
   "cell_type": "code",
   "execution_count": 63,
   "metadata": {},
   "outputs": [
    {
     "data": {
      "text/plain": [
       "tensor([ 0.6314,  0.4631,  0.3755, -0.0208,  0.5893])"
      ]
     },
     "execution_count": 63,
     "metadata": {},
     "output_type": "execute_result"
    }
   ],
   "source": [
    "dm.stsds.STS[0, a:(74718+1):stride]"
   ]
  },
  {
   "cell_type": "code",
   "execution_count": 15,
   "metadata": {},
   "outputs": [
    {
     "name": "stdout",
     "output_type": "stream",
     "text": [
      "74655 74719\n"
     ]
    },
    {
     "data": {
      "text/plain": [
       "(tensor([[ 0.5052,  0.5227,  0.4456,  0.5192,  0.4456,  0.4035,  0.3965,  0.4210,\n",
       "           0.5893,  0.3229,  0.2808,  0.4210,  0.4351,  0.5192,  0.5192,  0.4140,\n",
       "           0.3965,  0.6454,  0.5367,  0.5332,  0.5017,  0.6139,  0.4701,  0.2036,\n",
       "           0.3755,  0.2703,  0.0879,  0.8313,  0.5437,  0.3088,  0.3755,  0.2668],\n",
       "         [-0.8961, -0.9184, -0.8701, -0.7067, -0.6807, -0.7996, -0.8144, -0.9036,\n",
       "          -0.6993, -0.6882, -0.5731, -0.6176, -0.7439, -0.7439, -0.7439, -0.5582,\n",
       "          -0.4802, -0.4691, -0.4319, -0.4059, -0.5656, -0.3614, -0.5396, -0.4282,\n",
       "          -0.4616, -0.4691, -0.5248, -0.8219, -0.8144, -0.7142, -0.7884, -0.8850],\n",
       "         [-0.5556, -0.4824, -0.4207, -0.4515, -0.4631, -0.4361, -0.6057, -0.4593,\n",
       "          -0.5132, -0.4246, -0.5016, -0.6134, -0.3976, -0.4284, -0.4284, -0.3205,\n",
       "          -0.4708, -0.6828, -0.6404, -0.6866, -0.6558, -0.7829, -0.7020, -0.0315,\n",
       "          -0.1433, -0.6673, -0.5402, -0.5171, -0.6982, -0.5826, -0.6558, -0.6018],\n",
       "         [-0.0296, -0.1616, -0.1069, -0.0948, -0.0701, -0.1432, -0.1485, -0.4420,\n",
       "           0.0135,  0.0035,  0.1535,  0.3428, -0.0790, -0.0212,  0.0256,  0.0398,\n",
       "          -0.1195,  0.1582,  0.0646,  0.0099,  0.1056, -0.0159, -0.1990, -0.0327,\n",
       "          -0.1095, -0.0569,  0.1519,  0.2676,  0.1850,  0.2539,  0.3091,  0.2113],\n",
       "         [-0.0119,  0.3616,  0.0042, -0.3263, -0.2316, -0.4022,  0.2588,  0.2810,\n",
       "           0.1513, -0.1403, -0.0234,  0.9474,  0.1453,  0.0163,  0.0902, -0.9162,\n",
       "          -1.4355, -0.8584, -0.8396, -0.6192,  0.2615,  1.4573,  3.4149,  0.4556,\n",
       "          -2.1059, -0.3525, -0.1913, -0.9182,  0.6988,  0.7788,  1.8409,  1.4391],\n",
       "         [-0.6633, -0.9559, -0.5678, -0.3243, -0.2822, -0.0387, -0.2892, -0.6545,\n",
       "          -0.2866, -0.3549, -0.7947, -0.2314, -0.8008, -1.3676, -1.2362, -1.0864,\n",
       "          -1.4911, -0.5380,  0.3258,  0.7489,  0.1549,  0.6867,  0.5895,  0.3074,\n",
       "           0.1427,  1.1738,  2.7454,  1.7677,  1.1019,  0.5684, -0.7097, -3.0636]]),\n",
       " tensor([100, 100, 100, 100, 100, 100, 100, 100, 100, 100, 100, 100, 100, 100,\n",
       "         100, 100, 100, 100, 100, 100, 100, 100, 100, 100, 100, 100, 100, 100,\n",
       "         100, 100, 100, 100]))"
      ]
     },
     "execution_count": 15,
     "metadata": {},
     "output_type": "execute_result"
    }
   ],
   "source": [
    "dm.stsds[dm.ds_val.indices[0]]"
   ]
  },
  {
   "cell_type": "code",
   "execution_count": 52,
   "metadata": {},
   "outputs": [],
   "source": [
    "def process_fft_full(STS): \n",
    "    # no tiene sentido hacer esto, ya que frecuencias que van a tener mayor peso son relacionadas con muchos sujetos y muchas clases a la vez\n",
    "    # como la serie temporal es larga no funciona\n",
    "    \n",
    "    fft_size = 2**int(np.log2(STS.shape[1]))\n",
    "    fft_short = np.fft.fft(STS, axis=-1, n=fft_size)\n",
    "    fft_freq = np.fft.fftfreq(fft_size, d=1/50)\n",
    "\n",
    "    return fft_short, fft_freq"
   ]
  },
  {
   "cell_type": "code",
   "execution_count": 53,
   "metadata": {},
   "outputs": [],
   "source": [
    "out = process_fft_full(dm.stsds.STS)"
   ]
  },
  {
   "cell_type": "code",
   "execution_count": 54,
   "metadata": {},
   "outputs": [],
   "source": [
    "sorted = np.argsort(np.abs(out[0]), axis=-1)\n",
    "freq_sorted = out[1][sorted]"
   ]
  },
  {
   "cell_type": "code",
   "execution_count": 55,
   "metadata": {},
   "outputs": [
    {
     "data": {
      "text/plain": [
       "(6, 1048576)"
      ]
     },
     "execution_count": 55,
     "metadata": {},
     "output_type": "execute_result"
    }
   ],
   "source": [
    "freq_sorted.shape"
   ]
  },
  {
   "cell_type": "code",
   "execution_count": 49,
   "metadata": {},
   "outputs": [
    {
     "data": {
      "text/plain": [
       "9.5367431640625e-07"
      ]
     },
     "execution_count": 49,
     "metadata": {},
     "output_type": "execute_result"
    }
   ],
   "source": [
    "1/1048576"
   ]
  },
  {
   "cell_type": "code",
   "execution_count": 60,
   "metadata": {},
   "outputs": [
    {
     "data": {
      "text/plain": [
       "array([[ 4.29153442e-04, -4.29153442e-04, -1.62601471e-02,\n",
       "         1.62601471e-02, -4.95910645e-03,  4.95910645e-03,\n",
       "         2.86102295e-03, -2.86102295e-03, -1.71184540e-02,\n",
       "         1.71184540e-02,  2.95639038e-03, -2.95639038e-03,\n",
       "         2.38418579e-03, -2.38418579e-03,  3.00407410e-03,\n",
       "        -3.00407410e-03,  2.57492065e-03, -2.57492065e-03,\n",
       "         2.52723694e-03, -2.52723694e-03],\n",
       "       [-2.71797180e-03,  2.71797180e-03, -4.95910645e-03,\n",
       "         4.95910645e-03,  1.43051147e-04, -1.43051147e-04,\n",
       "        -2.81333923e-03,  2.81333923e-03, -2.86102295e-03,\n",
       "         2.86102295e-03, -2.67028809e-03,  2.67028809e-03,\n",
       "         2.95639038e-03, -2.95639038e-03, -3.00407410e-03,\n",
       "         3.00407410e-03, -2.57492065e-03,  2.57492065e-03,\n",
       "        -2.52723694e-03,  2.52723694e-03],\n",
       "       [-4.72068787e-03,  4.72068787e-03,  3.24249268e-03,\n",
       "        -3.24249268e-03,  9.05990601e-04, -9.05990601e-04,\n",
       "        -2.86102295e-03,  2.86102295e-03, -1.95503235e-03,\n",
       "         1.95503235e-03, -6.67572021e-04,  6.67572021e-04,\n",
       "        -2.71797180e-03,  2.71797180e-03,  3.00407410e-03,\n",
       "        -3.00407410e-03,  2.52723694e-03, -2.52723694e-03,\n",
       "         2.57492065e-03, -2.57492065e-03],\n",
       "       [-2.71797180e-03,  2.71797180e-03, -3.44276428e-02,\n",
       "         3.44276428e-02,  2.74658203e-02, -2.74658203e-02,\n",
       "        -2.78949738e-02,  2.78949738e-02,  3.17573547e-02,\n",
       "        -3.17573547e-02, -3.24249268e-02,  3.24249268e-02,\n",
       "        -3.27587128e-02,  3.27587128e-02, -4.29153442e-04,\n",
       "         4.29153442e-04, -2.81333923e-02,  2.81333923e-02,\n",
       "         3.19957733e-02, -3.19957733e-02],\n",
       "       [ 8.33702087e-01, -8.33702087e-01,  8.43715668e-01,\n",
       "        -8.43715668e-01, -7.80153275e-01,  7.80153275e-01,\n",
       "         8.38184357e-01, -8.38184357e-01,  8.05521011e-01,\n",
       "        -8.05521011e-01,  3.19957733e-02, -3.19957733e-02,\n",
       "         8.45146179e-01, -8.45146179e-01, -8.76235962e-01,\n",
       "         8.76235962e-01, -8.85343552e-01,  8.85343552e-01,\n",
       "         8.74805450e-01, -8.74805450e-01],\n",
       "       [ 2.07901001e-02, -2.07901001e-02,  2.43186951e-03,\n",
       "        -2.43186951e-03,  2.15053558e-02, -2.15053558e-02,\n",
       "        -5.97953796e-02,  5.97953796e-02,  2.47955322e-02,\n",
       "        -2.47955322e-02,  6.54220581e-02, -6.54220581e-02,\n",
       "        -2.32219696e-02,  2.32219696e-02,  9.36985016e-02,\n",
       "        -9.36985016e-02, -3.51428986e-02,  3.51428986e-02,\n",
       "         2.57492065e-03, -2.57492065e-03]])"
      ]
     },
     "execution_count": 60,
     "metadata": {},
     "output_type": "execute_result"
    }
   ],
   "source": [
    "freq_sorted[:,-20:]"
   ]
  }
 ],
 "metadata": {
  "kernelspec": {
   "display_name": "ssstsc",
   "language": "python",
   "name": "python3"
  },
  "language_info": {
   "codemirror_mode": {
    "name": "ipython",
    "version": 3
   },
   "file_extension": ".py",
   "mimetype": "text/x-python",
   "name": "python",
   "nbconvert_exporter": "python",
   "pygments_lexer": "ipython3",
   "version": "3.10.13"
  }
 },
 "nbformat": 4,
 "nbformat_minor": 2
}
