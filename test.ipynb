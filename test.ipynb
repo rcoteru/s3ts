{
 "cells": [
  {
   "cell_type": "code",
   "execution_count": 1,
   "metadata": {},
   "outputs": [],
   "source": [
    "import numpy as np\n",
    "import torch\n",
    "\n",
    "from s3ts.helper_functions import *"
   ]
  },
  {
   "cell_type": "code",
   "execution_count": 2,
   "metadata": {},
   "outputs": [
    {
     "name": "stdout",
     "output_type": "stream",
     "text": [
      "Loaded dataset WISDM with a total of 1096480 observations for window size 48\n",
      "Using 443636 observations for training and 154375 observations for validation and test\n"
     ]
    }
   ],
   "source": [
    "dm = load_tsdataset(\"WISDM\", \"./datasets/\", 128, 8, 48, 1, True, None, [30, 31, 32, 33, 34, 35], True, 1)"
   ]
  },
  {
   "cell_type": "code",
   "execution_count": 3,
   "metadata": {},
   "outputs": [
    {
     "name": "stdout",
     "output_type": "stream",
     "text": [
      "Input shape:  torch.Size([1, 3, 48])\n",
      "Latent shape:  torch.Size([1, 80, 12])\n",
      "[tensor(960), 32, 32, 6]\n"
     ]
    }
   ],
   "source": [
    "from s3ts.api.nets.methods import create_model_from_DM, train_model\n",
    "\n",
    "model = create_model_from_DM(dm, \"ts\", \"cnn\", \"mlp\", \"cls\", \"test\", 20, 32, 2, 0.001)"
   ]
  },
  {
   "cell_type": "code",
   "execution_count": 4,
   "metadata": {},
   "outputs": [
    {
     "name": "stderr",
     "output_type": "stream",
     "text": [
      "Global seed set to 42\n",
      "GPU available: True (cuda), used: True\n",
      "TPU available: False, using: 0 TPU cores\n",
      "IPU available: False, using: 0 IPUs\n",
      "HPU available: False, using: 0 HPUs\n",
      "You are using a CUDA device ('NVIDIA GeForce RTX 3060') that has Tensor Cores. To properly utilize them, you should set `torch.set_float32_matmul_precision('medium' | 'high')` which will trade-off precision for performance. For more details, read https://pytorch.org/docs/stable/generated/torch.set_float32_matmul_precision.html#torch.set_float32_matmul_precision\n",
      "LOCAL_RANK: 0 - CUDA_VISIBLE_DEVICES: [0]\n",
      "\n",
      "   | Name       | Type                 | Params\n",
      "-----------------------------------------------------\n",
      "0  | encoder    | CNN_TS               | 12.9 K\n",
      "1  | decoder    | MultiLayerPerceptron | 32.0 K\n",
      "2  | flatten    | Flatten              | 0     \n",
      "3  | softmax    | Softmax              | 0     \n",
      "4  | train_acc  | MulticlassAccuracy   | 0     \n",
      "5  | train_f1   | MulticlassF1Score    | 0     \n",
      "6  | val_acc    | MulticlassAccuracy   | 0     \n",
      "7  | val_f1     | MulticlassF1Score    | 0     \n",
      "8  | val_auroc  | MulticlassAUROC      | 0     \n",
      "9  | test_acc   | MulticlassAccuracy   | 0     \n",
      "10 | test_f1    | MulticlassF1Score    | 0     \n",
      "11 | test_auroc | MulticlassAUROC      | 0     \n",
      "-----------------------------------------------------\n",
      "44.9 K    Trainable params\n",
      "0         Non-trainable params\n",
      "44.9 K    Total params\n",
      "0.180     Total estimated model params size (MB)\n"
     ]
    },
    {
     "name": "stdout",
     "output_type": "stream",
     "text": [
      "Epoch 4: 100%|██████████| 3466/3466 [00:45<00:00, 76.46it/s, v_num=24, train_loss_step=0.200, val_loss=0.707, val_acc=0.756, val_auroc=0.960, train_loss_epoch=0.252, train_acc=0.922]  "
     ]
    },
    {
     "name": "stderr",
     "output_type": "stream",
     "text": [
      "`Trainer.fit` stopped: `max_epochs=5` reached.\n"
     ]
    },
    {
     "name": "stdout",
     "output_type": "stream",
     "text": [
      "Epoch 4: 100%|██████████| 3466/3466 [00:45<00:00, 76.46it/s, v_num=24, train_loss_step=0.200, val_loss=0.707, val_acc=0.756, val_auroc=0.960, train_loss_epoch=0.252, train_acc=0.922]\n",
      "Input shape:  torch.Size([1, 3, 48])\n",
      "Latent shape:  torch.Size([1, 80, 12])\n",
      "[tensor(960), 32, 32, 6]\n"
     ]
    },
    {
     "name": "stderr",
     "output_type": "stream",
     "text": [
      "LOCAL_RANK: 0 - CUDA_VISIBLE_DEVICES: [0]\n"
     ]
    },
    {
     "name": "stdout",
     "output_type": "stream",
     "text": [
      "Validation DataLoader 0: 100%|██████████| 1207/1207 [00:16<00:00, 74.33it/s]\n"
     ]
    },
    {
     "data": {
      "text/html": [
       "<pre style=\"white-space:pre;overflow-x:auto;line-height:normal;font-family:Menlo,'DejaVu Sans Mono',consolas,'Courier New',monospace\">┏━━━━━━━━━━━━━━━━━━━━━━━━━━━┳━━━━━━━━━━━━━━━━━━━━━━━━━━━┓\n",
       "┃<span style=\"font-weight: bold\">      Validate metric      </span>┃<span style=\"font-weight: bold\">       DataLoader 0        </span>┃\n",
       "┡━━━━━━━━━━━━━━━━━━━━━━━━━━━╇━━━━━━━━━━━━━━━━━━━━━━━━━━━┩\n",
       "│<span style=\"color: #008080; text-decoration-color: #008080\">          val_acc          </span>│<span style=\"color: #800080; text-decoration-color: #800080\">     0.820956826210022     </span>│\n",
       "│<span style=\"color: #008080; text-decoration-color: #008080\">         val_auroc         </span>│<span style=\"color: #800080; text-decoration-color: #800080\">    0.9649650454521179     </span>│\n",
       "│<span style=\"color: #008080; text-decoration-color: #008080\">          val_f1           </span>│<span style=\"color: #800080; text-decoration-color: #800080\">    0.7980151176452637     </span>│\n",
       "│<span style=\"color: #008080; text-decoration-color: #008080\">         val_loss          </span>│<span style=\"color: #800080; text-decoration-color: #800080\">    0.6010432243347168     </span>│\n",
       "└───────────────────────────┴───────────────────────────┘\n",
       "</pre>\n"
      ],
      "text/plain": [
       "┏━━━━━━━━━━━━━━━━━━━━━━━━━━━┳━━━━━━━━━━━━━━━━━━━━━━━━━━━┓\n",
       "┃\u001b[1m \u001b[0m\u001b[1m     Validate metric     \u001b[0m\u001b[1m \u001b[0m┃\u001b[1m \u001b[0m\u001b[1m      DataLoader 0       \u001b[0m\u001b[1m \u001b[0m┃\n",
       "┡━━━━━━━━━━━━━━━━━━━━━━━━━━━╇━━━━━━━━━━━━━━━━━━━━━━━━━━━┩\n",
       "│\u001b[36m \u001b[0m\u001b[36m         val_acc         \u001b[0m\u001b[36m \u001b[0m│\u001b[35m \u001b[0m\u001b[35m    0.820956826210022    \u001b[0m\u001b[35m \u001b[0m│\n",
       "│\u001b[36m \u001b[0m\u001b[36m        val_auroc        \u001b[0m\u001b[36m \u001b[0m│\u001b[35m \u001b[0m\u001b[35m   0.9649650454521179    \u001b[0m\u001b[35m \u001b[0m│\n",
       "│\u001b[36m \u001b[0m\u001b[36m         val_f1          \u001b[0m\u001b[36m \u001b[0m│\u001b[35m \u001b[0m\u001b[35m   0.7980151176452637    \u001b[0m\u001b[35m \u001b[0m│\n",
       "│\u001b[36m \u001b[0m\u001b[36m        val_loss         \u001b[0m\u001b[36m \u001b[0m│\u001b[35m \u001b[0m\u001b[35m   0.6010432243347168    \u001b[0m\u001b[35m \u001b[0m│\n",
       "└───────────────────────────┴───────────────────────────┘\n"
      ]
     },
     "metadata": {},
     "output_type": "display_data"
    },
    {
     "data": {
      "text/plain": [
       "(WrapperModel(\n",
       "   (encoder): CNN_TS(\n",
       "     (cnn_0): Sequential(\n",
       "       (0): Conv1d(3, 10, kernel_size=(3,), stride=(1,), padding=same)\n",
       "       (1): ReLU()\n",
       "       (2): MaxPool1d(kernel_size=2, stride=2, padding=0, dilation=1, ceil_mode=False)\n",
       "     )\n",
       "     (cnn_1): Sequential(\n",
       "       (0): Conv1d(10, 20, kernel_size=(3,), stride=(1,), padding=same)\n",
       "       (1): ReLU()\n",
       "       (2): AvgPool1d(kernel_size=(2,), stride=(2,), padding=(0,))\n",
       "       (3): Dropout(p=0.35, inplace=False)\n",
       "     )\n",
       "     (cnn_2): Sequential(\n",
       "       (0): Conv1d(20, 40, kernel_size=(3,), stride=(1,), padding=same)\n",
       "       (1): BatchNorm1d(40, eps=1e-05, momentum=0.1, affine=True, track_running_stats=True)\n",
       "       (2): ReLU()\n",
       "       (3): Dropout(p=0.4, inplace=False)\n",
       "     )\n",
       "     (cnn_3): Conv1d(40, 80, kernel_size=(3,), stride=(1,), padding=same)\n",
       "   )\n",
       "   (decoder): MultiLayerPerceptron(\n",
       "     (fcn_layer_0): Linear(in_features=960, out_features=32, bias=True)\n",
       "     (act_layer_0): ReLU()\n",
       "     (fcn_layer_1): Linear(in_features=32, out_features=32, bias=True)\n",
       "     (act_layer_1): ReLU()\n",
       "     (fcn_out): Linear(in_features=32, out_features=6, bias=True)\n",
       "   )\n",
       "   (flatten): Flatten(start_dim=1, end_dim=-1)\n",
       "   (softmax): Softmax(dim=None)\n",
       "   (train_acc): MulticlassAccuracy()\n",
       "   (train_f1): MulticlassF1Score()\n",
       "   (val_acc): MulticlassAccuracy()\n",
       "   (val_f1): MulticlassF1Score()\n",
       "   (val_auroc): MulticlassAUROC()\n",
       "   (test_acc): MulticlassAccuracy()\n",
       "   (test_f1): MulticlassF1Score()\n",
       "   (test_auroc): MulticlassAUROC()\n",
       " ),\n",
       " {'val_acc': 0.820956826210022,\n",
       "  'val_f1': 0.7980151176452637,\n",
       "  'val_auroc': 0.9649650454521179})"
      ]
     },
     "execution_count": 4,
     "metadata": {},
     "output_type": "execute_result"
    }
   ],
   "source": [
    "train_model(dm, model, 5, {\n",
    "    \"default_root_dir\": \"training\",\n",
    "    \"accelerator\": \"gpu\",\n",
    "    \"seed\": 42\n",
    "})"
   ]
  },
  {
   "cell_type": "code",
   "execution_count": 7,
   "metadata": {},
   "outputs": [],
   "source": [
    "import torchmetrics as tm"
   ]
  },
  {
   "cell_type": "code",
   "execution_count": 8,
   "metadata": {},
   "outputs": [],
   "source": [
    "auroc_online = tm.AUROC(task=\"multiclass\", num_classes=6)\n",
    "dataloader = dm.val_dataloader()"
   ]
  },
  {
   "cell_type": "code",
   "execution_count": 9,
   "metadata": {},
   "outputs": [],
   "source": [
    "auroc_batch = []"
   ]
  },
  {
   "cell_type": "code",
   "execution_count": 10,
   "metadata": {},
   "outputs": [],
   "source": [
    "model.eval()\n",
    "auroc_online.reset()\n",
    "for batch_idx, data in enumerate(dataloader):\n",
    "    preds = model.logits(data[\"series\"])\n",
    "    auroc_online(preds, data[\"label\"])"
   ]
  },
  {
   "cell_type": "code",
   "execution_count": 11,
   "metadata": {},
   "outputs": [
    {
     "data": {
      "text/plain": [
       "tensor(0.9598)"
      ]
     },
     "execution_count": 11,
     "metadata": {},
     "output_type": "execute_result"
    }
   ],
   "source": [
    "auroc_online.compute()"
   ]
  }
 ],
 "metadata": {
  "kernelspec": {
   "display_name": "ssstsc",
   "language": "python",
   "name": "python3"
  },
  "language_info": {
   "codemirror_mode": {
    "name": "ipython",
    "version": 3
   },
   "file_extension": ".py",
   "mimetype": "text/x-python",
   "name": "python",
   "nbconvert_exporter": "python",
   "pygments_lexer": "ipython3",
   "version": "3.10.13"
  }
 },
 "nbformat": 4,
 "nbformat_minor": 2
}
