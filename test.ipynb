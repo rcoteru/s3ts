{
 "cells": [
  {
   "cell_type": "code",
   "execution_count": 1,
   "metadata": {},
   "outputs": [],
   "source": [
    "import os\n",
    "from time import time\n",
    "import yaml\n",
    "\n",
    "from argparse import ArgumentParser, Namespace\n",
    "\n",
    "from s3ts.api.nets.wrapper import WrapperModel\n",
    "from s3ts.helper_functions import load_dm, str_time, get_parser\n",
    "\n",
    "from pytorch_lightning import Trainer\n",
    "from pytorch_lightning.utilities.model_summary import summarize\n",
    "\n",
    "from s3ts.helper_functions import get_model\n",
    "\n",
    "import torch\n",
    "import numpy as np\n",
    "\n",
    "import matplotlib.pyplot as plt"
   ]
  },
  {
   "cell_type": "code",
   "execution_count": 2,
   "metadata": {},
   "outputs": [],
   "source": [
    "p = get_parser()"
   ]
  },
  {
   "cell_type": "code",
   "execution_count": 3,
   "metadata": {},
   "outputs": [],
   "source": [
    "args = p.parse_args(\"--mode ts --dataset UCI-HAR --lr 0.001 --subjects_for_test 21 --window_size 25 --window_stride 1 --batch_size 128 --encoder_architecture cnn_gap --encoder_features 20 --decoder_architecture mlp --decoder_features 32 --decoder_layers 1 --pattern_size 32 --rho 0.1 --compute_n 300 --pattern_type syn --num_workers 8 --max_epochs 3 --normalize --reduce_imbalance --training_dir training_cv2 --n_val_subjects 4 --weight_decayL1 0 --weight_decayL2 0\".split())"
   ]
  },
  {
   "cell_type": "code",
   "execution_count": 4,
   "metadata": {},
   "outputs": [
    {
     "name": "stdout",
     "output_type": "stream",
     "text": [
      "Loaded dataset UCI-HAR with a total of 815614 observations for window size 25\n",
      "Sampling 59084 (balanced) observations per epoch.\n",
      "Using 708997 observations for training, 106617 for validation and 25512 observations for test\n",
      "1787 number of class changes\n"
     ]
    }
   ],
   "source": [
    "dm = load_dm(args)\n",
    "\n",
    "class_changes = [0] + list(np.nonzero(np.diff(dm.stsds.SCS))[0])\n",
    "print(len(class_changes), \"number of class changes\")"
   ]
  }
 ],
 "metadata": {
  "kernelspec": {
   "display_name": "ssstsc",
   "language": "python",
   "name": "python3"
  },
  "language_info": {
   "codemirror_mode": {
    "name": "ipython",
    "version": 3
   },
   "file_extension": ".py",
   "mimetype": "text/x-python",
   "name": "python",
   "nbconvert_exporter": "python",
   "pygments_lexer": "ipython3",
   "version": "3.10.13"
  }
 },
 "nbformat": 4,
 "nbformat_minor": 2
}
