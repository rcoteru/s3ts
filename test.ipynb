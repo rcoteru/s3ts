{
 "cells": [
  {
   "cell_type": "code",
   "execution_count": 1,
   "metadata": {},
   "outputs": [],
   "source": [
    "import os\n",
    "from time import time\n",
    "import yaml\n",
    "\n",
    "from argparse import ArgumentParser, Namespace\n",
    "\n",
    "from s3ts.api.nets.wrapper import WrapperModel\n",
    "from s3ts.helper_functions import load_dm, str_time, get_parser\n",
    "\n",
    "from pytorch_lightning import Trainer\n",
    "from pytorch_lightning.utilities.model_summary import summarize\n",
    "\n",
    "from s3ts.helper_functions import get_model\n",
    "\n",
    "import torch\n",
    "import numpy as np\n",
    "\n",
    "import matplotlib.pyplot as plt"
   ]
  },
  {
   "cell_type": "code",
   "execution_count": 2,
   "metadata": {},
   "outputs": [],
   "source": [
    "p = get_parser()"
   ]
  },
  {
   "cell_type": "code",
   "execution_count": 3,
   "metadata": {},
   "outputs": [],
   "source": [
    "args = p.parse_args(\"--mode ts --dataset UCI-HAR --lr 0.001 --subjects_for_test 21 --window_size 25 --window_stride 1 --batch_size 128 --encoder_architecture cnn_gap --encoder_features 20 --decoder_architecture mlp --decoder_features 32 --decoder_layers 1 --pattern_size 32 --rho 0.1 --compute_n 300 --pattern_type syn --num_workers 8 --max_epochs 3 --normalize --reduce_imbalance --training_dir training_cv2 --n_val_subjects 4 --weight_decayL1 0 --weight_decayL2 0\".split())"
   ]
  },
  {
   "cell_type": "code",
   "execution_count": 4,
   "metadata": {},
   "outputs": [
    {
     "name": "stdout",
     "output_type": "stream",
     "text": [
      "Loaded dataset UCI-HAR with a total of 815614 observations for window size 25\n",
      "Sampling 59084 (balanced) observations per epoch.\n",
      "Using 708997 observations for training, 106617 for validation and 25512 observations for test\n",
      "1787 number of class changes\n"
     ]
    }
   ],
   "source": [
    "dm = load_dm(args)\n",
    "\n",
    "class_changes = [0] + list(np.nonzero(np.diff(dm.stsds.SCS))[0])\n",
    "print(len(class_changes), \"number of class changes\")"
   ]
  },
  {
   "cell_type": "code",
   "execution_count": 8,
   "metadata": {},
   "outputs": [],
   "source": [
    "fft_res = np.fft.fft(dm.stsds.STS[0, (class_changes[2]+1):(class_changes[3]+1)], n=512)"
   ]
  },
  {
   "cell_type": "code",
   "execution_count": 52,
   "metadata": {},
   "outputs": [],
   "source": [
    "def process_fft(STS, SCS):\n",
    "    class_changes = [0] + list(np.nonzero(np.diff(SCS))[0])\n",
    "\n",
    "    # top10 = {} # a dict for each class\n",
    "    magnitudes = {} # a dict for each class\n",
    "    classes = np.unique(SCS)\n",
    "    for c in classes:\n",
    "        # top10[c] = [{} for i in range(STS.shape[0])] # a dict for each channel\n",
    "        magnitudes[c] = [{} for i in range(STS.shape[0])] # a dict for each channel\n",
    "\n",
    "    for i in range(len(class_changes)-1):\n",
    "        current_class = SCS[class_changes[i]+1].item()\n",
    "\n",
    "        series_part = STS[:, (class_changes[i]+1):(class_changes[i+1]+1)]\n",
    "        fft_size = 2**int(np.log2(series_part.shape[1]))\n",
    "        fft_short = np.fft.fft(series_part, axis=-1, n=fft_size)\n",
    "        fft_freq = np.fft.fftfreq(fft_size) # highest frequencies for signals of sampling rate 50 is 25\n",
    "\n",
    "        # fft_short_sort = np.argsort(np.abs(fft_short), axis=-1) # sort is ascending magnitudes\n",
    "\n",
    "        # fft_freq_sort = np.abs(fft_freq[fft_short_sort][:,-5:]) # get the 10 for each channel frequencies (+-) with highest amplitude\n",
    "\n",
    "        for c in range(fft_short.shape[0]):\n",
    "            for j in range(fft_short.shape[1]):\n",
    "                magnitudes[current_class][c][fft_freq[j]] = magnitudes[current_class][c].get(fft_freq[j], 0) + np.abs(fft_short[c, j])\n",
    "\n",
    "            # for j in range(fft_freq_sort.shape[1]):\n",
    "            #     top10[current_class][c][fft_freq_sort[c, j]] = top10[current_class][c].get(fft_freq_sort[c, j], 0) + 1\n",
    "\n",
    "    return magnitudes"
   ]
  },
  {
   "cell_type": "code",
   "execution_count": 49,
   "metadata": {},
   "outputs": [],
   "source": [
    "def get_predominant_frequency(fft_mag, mode=\"count\"):\n",
    "    classes_list = list(filter(lambda x: x!=100, fft_mag.keys()))\n",
    "    num_classes = len(classes_list)\n",
    "\n",
    "    if mode==\"count\":\n",
    "        out = np.zeros((num_classes, len(fft_mag[0]))) # (n, c) we get a predominant frequency per channel, per class\n",
    "\n",
    "        for i, c in enumerate(classes_list):\n",
    "            for j, channel_result in enumerate(fft_mag[c]):\n",
    "                sorted_fr = list(filter(lambda x: x[0]>0, sorted(channel_result.items(), key=lambda x:x[1])))\n",
    "                out[i, j] = sorted_fr[-1][0]\n",
    "        \n",
    "        return out\n",
    "    \n",
    "    elif mode==\"magnitude\": # get the frequencies with most importance in the fft transform\n",
    "        out = {} # frequencies magnitude total\n",
    "\n",
    "        for i, c in enumerate(classes_list):\n",
    "            for j, channel_result in enumerate(fft_mag[c]):\n",
    "                for f in channel_result.keys():\n",
    "                     out[f] = out.get(f, 0) + channel_result[f]                \n",
    "        \n",
    "        frequencies_ordered = np.array(list(filter(lambda x: x[0]>0, sorted(out.items(), key=lambda x:x[1], reverse=True))))\n",
    "\n",
    "        return frequencies_ordered"
   ]
  },
  {
   "cell_type": "code",
   "execution_count": 53,
   "metadata": {},
   "outputs": [],
   "source": [
    "res = process_fft(dm.stsds.STS, dm.stsds.SCS)"
   ]
  },
  {
   "cell_type": "code",
   "execution_count": 50,
   "metadata": {},
   "outputs": [],
   "source": [
    "pred_f = get_predominant_frequency(res[0], res[1], \"magnitude\")"
   ]
  },
  {
   "cell_type": "code",
   "execution_count": 51,
   "metadata": {},
   "outputs": [
    {
     "data": {
      "text/plain": [
       "array([[1.56250000e-02, 1.27775835e+04],\n",
       "       [7.81250000e-03, 1.14858395e+04],\n",
       "       [3.12500000e-02, 1.02229223e+04],\n",
       "       ...,\n",
       "       [3.72070312e-01, 2.52868040e+01],\n",
       "       [4.95117188e-01, 2.24361509e+01],\n",
       "       [4.26757812e-01, 2.01007423e+01]])"
      ]
     },
     "execution_count": 51,
     "metadata": {},
     "output_type": "execute_result"
    }
   ],
   "source": [
    "pred_f"
   ]
  }
 ],
 "metadata": {
  "kernelspec": {
   "display_name": "ssstsc",
   "language": "python",
   "name": "python3"
  },
  "language_info": {
   "codemirror_mode": {
    "name": "ipython",
    "version": 3
   },
   "file_extension": ".py",
   "mimetype": "text/x-python",
   "name": "python",
   "nbconvert_exporter": "python",
   "pygments_lexer": "ipython3",
   "version": "3.10.13"
  }
 },
 "nbformat": 4,
 "nbformat_minor": 2
}
