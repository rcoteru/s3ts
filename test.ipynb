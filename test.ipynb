{
 "cells": [
  {
   "cell_type": "code",
   "execution_count": 1,
   "metadata": {},
   "outputs": [],
   "source": [
    "import torch\n",
    "import numpy as np\n",
    "from torch import nn, Tensor"
   ]
  },
  {
   "cell_type": "code",
   "execution_count": 2,
   "metadata": {},
   "outputs": [],
   "source": [
    "\n",
    "@torch.jit.script\n",
    "def dtw_compute_full2(dtw: torch.Tensor, dist_grad: torch.Tensor, w: float) -> torch.Tensor:\n",
    "    '''\n",
    "        dtw of shape (n, k, pattern_len, window_size)\n",
    "        dist_grad of shape (n, k, dims, pattern_len, window_size)\n",
    "        grad of shape (n, k, dims, pl)\n",
    "    '''\n",
    "    n, k, len_pattern, len_window = dtw.shape\n",
    "    grads = torch.zeros((n, k, dist_grad.shape[2], len_pattern), device=dtw.device)\n",
    "\n",
    "    for i in range(1, len_pattern): # pl\n",
    "        for j in range(1, len_window): # ws\n",
    "            value = torch.minimum(w * torch.minimum(dtw[:, :, i, j-1], dtw[:, :, i-1, j-1]), dtw[:, :, i-1, j])\n",
    "\n",
    "            dtw[:, :, i, j] += value\n",
    "\n",
    "    for i0 in range(len_pattern-1, -1, -1):\n",
    "        for j0 in range(len_window-1, -1, -1):\n",
    "            mask = ~torch.isinf(dtw[:, :, i0, j0])\n",
    "            grads[:, :, :, i0][mask] += dist_grad[:, :, :, i0, j0][mask]\n",
    "\n",
    "            if j0==0 or i0==0:\n",
    "                continue\n",
    "\n",
    "            paths = torch.stack([\n",
    "                dtw[:, :, i0, j0-1],\n",
    "                dtw[:, :, i0-1, j0],\n",
    "                dtw[:, :, i0-1, j0-1]\n",
    "            ])\n",
    "\n",
    "            id = paths.argmin(0)\n",
    "\n",
    "            dtw[:, :, i0, :j0][(id!=0) & mask] = float(\"inf\")\n",
    "            dtw[:, :, :i0, j0][(id!=1) & mask] = float(\"inf\")\n",
    "\n",
    "    return grads\n",
    "\n",
    "@torch.jit.script\n",
    "def dtw_compute_no_grad2(dtw: torch.Tensor, w: float) -> None:\n",
    "    '''\n",
    "        dtw of shape (n, k, pattern_len, window_size)\n",
    "        grad of shape (n, k, dims, pattern_len)\n",
    "    '''\n",
    "\n",
    "    n, k, len_pattern, len_window = dtw.shape\n",
    "\n",
    "    for i in range(1, len_pattern): # pl\n",
    "        for j in range(1, len_window): # ws\n",
    "            value = torch.minimum(w * torch.minimum(dtw[:, :, i, j-1], dtw[:, :, i-1, j-1]), dtw[:, :, i-1, j])\n",
    "\n",
    "            dtw[:, :, i, j] += value\n",
    "    \n",
    "@torch.jit.script\n",
    "def dtw_fast_no_image2(x: torch.Tensor, y: torch.Tensor, w: float, eps: float = 1e-5, compute_gradients: bool=True):\n",
    "    # shape of x (n, dim, x_len) y (m, dim, y_len)\n",
    "\n",
    "    # performs convolution-like operation, for each kernel the DF\n",
    "    # (of shape (kernel_size, T)) is computed, then summed across channels\n",
    "    # x has shape (batch, c, time_dimension)\n",
    "\n",
    "    # compute pairwise diffs (squared)\n",
    "    p_diff = x[:,None,:,None,:] - y[None,:,:,:,None] # shape (n, n_kernel, d, Kernel_size, T)\n",
    "    euc_d = torch.square(p_diff).sum(2) # shape (n, n_kernel, kernel_size, T)\n",
    "\n",
    "    if compute_gradients:\n",
    "        p_diff /= torch.sqrt(euc_d[:,:, None, :, :] + eps)\n",
    "\n",
    "    # compute dtw\n",
    "    euc_d[:,:,0,:] = torch.cumsum(euc_d[:,:,0,:], dim=2)\n",
    "    euc_d[:,:,:,0] = torch.cumsum(euc_d[:,:,:,0], dim=2)\n",
    "\n",
    "    if compute_gradients:\n",
    "        # p_diff now contains the partial derivatives of DTW[n, k, i, j] wrt K[k, d, i] (dims (n, k, d, i, j))\n",
    "        \n",
    "        grads = dtw_compute_full2(euc_d, p_diff, w) # dims (n, k, d, i, i, j)\n",
    "        \n",
    "        return euc_d.sqrt(), grads\n",
    "    else:\n",
    "        dtw_compute_no_grad2(euc_d, w)\n",
    "\n",
    "        return euc_d.sqrt(), None"
   ]
  },
  {
   "cell_type": "code",
   "execution_count": 3,
   "metadata": {},
   "outputs": [],
   "source": [
    "@torch.jit.script\n",
    "def dtw_compute_full(dtw: torch.Tensor, dist_grad: torch.Tensor, w: float) -> torch.Tensor:\n",
    "    '''\n",
    "        dtw of shape (n, k, pattern_len, window_size)\n",
    "        dist_grad of shape (n, k, dims, pattern_len, window_size)\n",
    "        grad of shape (n, k, dims, pl)\n",
    "    '''\n",
    "    n, k, len_pattern, len_window = dtw.shape\n",
    "    grads = torch.zeros((n, k, dist_grad.shape[2], len_pattern), device=dtw.device)\n",
    "\n",
    "    for i in range(1, len_pattern): # pl\n",
    "        for j in range(1, len_window): # ws\n",
    "            value = torch.minimum(w * torch.minimum(dtw[:, :, i, j-1], dtw[:, :, i-1, j-1]), dtw[:, :, i-1, j])\n",
    "\n",
    "            dtw[:, :, i, j] += value\n",
    "\n",
    "    for i0 in range(len_pattern-1, -1, -1):\n",
    "        for j0 in range(len_window-1, -1, -1):\n",
    "            mask = ~torch.isinf(dtw[:, :, i0, j0])\n",
    "            mask_id = mask.nonzero()\n",
    "            if mask_id.shape[0]==0:\n",
    "                continue\n",
    "\n",
    "            grads[mask_id[:, 0], mask_id[:, 1], :, i0] += dist_grad[mask_id[:, 0], mask_id[:, 1], :, i0, j0]\n",
    "\n",
    "            if j0==0 or i0==0:\n",
    "                continue\n",
    "\n",
    "            paths = torch.stack([\n",
    "                dtw[mask_id[:, 0], mask_id[:, 1], i0, j0-1],\n",
    "                dtw[mask_id[:, 0], mask_id[:, 1], i0-1, j0],\n",
    "                dtw[mask_id[:, 0], mask_id[:, 1], i0-1, j0-1]\n",
    "            ])\n",
    "\n",
    "            id = paths.argmin(0)\n",
    "\n",
    "            idnot0 = id!=0\n",
    "            idnot1 = id!=1\n",
    "            dtw[mask_id[:, 0][idnot0], mask_id[:, 1][idnot0], i0, :j0] = float(\"inf\")\n",
    "            dtw[mask_id[:, 0][idnot1], mask_id[:, 1][idnot1], :i0, j0] = float(\"inf\")\n",
    "\n",
    "    return grads\n",
    "\n",
    "@torch.jit.script\n",
    "def dtw_compute_no_grad(dtw: torch.Tensor, w: float) -> None:\n",
    "    '''\n",
    "        dtw of shape (n, k, pattern_len, window_size)\n",
    "        grad of shape (n, k, dims, pattern_len)\n",
    "    '''\n",
    "\n",
    "    n, k, len_pattern, len_window = dtw.shape\n",
    "\n",
    "    for i in range(1, len_pattern): # pl\n",
    "        for j in range(1, len_window): # ws\n",
    "            value = torch.minimum(w * torch.minimum(dtw[:, :, i, j-1], dtw[:, :, i-1, j-1]), dtw[:, :, i-1, j])\n",
    "\n",
    "            dtw[:, :, i, j] += value\n",
    "    \n",
    "@torch.jit.script\n",
    "def dtw_fast_no_image(x: torch.Tensor, y: torch.Tensor, w: float, eps: float = 1e-5, compute_gradients: bool=True):\n",
    "    # shape of x (n, dim, x_len) y (m, dim, y_len)\n",
    "\n",
    "    # performs convolution-like operation, for each kernel the DF\n",
    "    # (of shape (kernel_size, T)) is computed, then summed across channels\n",
    "    # x has shape (batch, c, time_dimension)\n",
    "\n",
    "    # compute pairwise diffs (squared)\n",
    "    p_diff = x[:,None,:,None,:] - y[None,:,:,:,None] # shape (n, n_kernel, d, Kernel_size, T)\n",
    "    euc_d = torch.square(p_diff).sum(2) # shape (n, n_kernel, kernel_size, T)\n",
    "\n",
    "    if compute_gradients:\n",
    "        p_diff /= torch.sqrt(euc_d[:,:, None, :, :] + eps)\n",
    "\n",
    "    # compute dtw\n",
    "    euc_d[:,:,0,:] = torch.cumsum(euc_d[:,:,0,:], dim=2)\n",
    "    euc_d[:,:,:,0] = torch.cumsum(euc_d[:,:,:,0], dim=2)\n",
    "\n",
    "    if compute_gradients:\n",
    "        # p_diff now contains the partial derivatives of DTW[n, k, i, j] wrt K[k, d, i] (dims (n, k, d, i, j))\n",
    "        \n",
    "        grads = dtw_compute_full(euc_d, p_diff, w) # dims (n, k, d, i, i, j)\n",
    "        \n",
    "        return euc_d.sqrt(), grads\n",
    "    else:\n",
    "        dtw_compute_no_grad(euc_d, w)\n",
    "\n",
    "        return euc_d.sqrt(), None"
   ]
  },
  {
   "cell_type": "code",
   "execution_count": 4,
   "metadata": {},
   "outputs": [],
   "source": [
    "a = torch.randn(1, 2, 5)\n",
    "b = torch.randn(2, 2, 6)"
   ]
  },
  {
   "cell_type": "code",
   "execution_count": 5,
   "metadata": {},
   "outputs": [],
   "source": [
    "dtw, grads = dtw_fast_no_image(a, b, 1, compute_gradients=True)"
   ]
  },
  {
   "cell_type": "code",
   "execution_count": 6,
   "metadata": {},
   "outputs": [
    {
     "data": {
      "text/plain": [
       "tensor([[[[-0.2284, -0.6878,  0.9921, -0.7903, -0.2551,  0.3082],\n",
       "          [ 0.9736, -1.6222, -0.1253,  0.6127, -0.9669, -0.9513]],\n",
       "\n",
       "         [[ 0.8082, -0.9195, -0.6803, -0.2600,  0.4891,  0.4143],\n",
       "          [-0.0071, -0.3932, -0.7328, -0.9656, -0.8722, -0.9101]]]])"
      ]
     },
     "execution_count": 6,
     "metadata": {},
     "output_type": "execute_result"
    }
   ],
   "source": [
    "grads"
   ]
  },
  {
   "cell_type": "code",
   "execution_count": 7,
   "metadata": {},
   "outputs": [
    {
     "data": {
      "text/plain": [
       "tensor([[[[2.2502,    inf,    inf,    inf,    inf],\n",
       "          [   inf, 3.3711, 3.5811,    inf,    inf],\n",
       "          [   inf,    inf,    inf, 3.7678,    inf],\n",
       "          [   inf,    inf,    inf, 4.0152,    inf],\n",
       "          [   inf,    inf,    inf, 4.3625,    inf],\n",
       "          [   inf,    inf,    inf,    inf, 5.1445]],\n",
       "\n",
       "         [[3.2596, 3.8193,    inf,    inf,    inf],\n",
       "          [   inf,    inf, 4.1877,    inf,    inf],\n",
       "          [   inf,    inf,    inf, 4.1945,    inf],\n",
       "          [   inf,    inf,    inf,    inf, 4.3122],\n",
       "          [   inf,    inf,    inf,    inf, 4.4857],\n",
       "          [   inf,    inf,    inf,    inf, 5.1856]]]])"
      ]
     },
     "execution_count": 7,
     "metadata": {},
     "output_type": "execute_result"
    }
   ],
   "source": [
    "dtw"
   ]
  },
  {
   "cell_type": "code",
   "execution_count": 8,
   "metadata": {},
   "outputs": [],
   "source": [
    "dtw2, grads2 = dtw_fast_no_image2(a, b, 1, compute_gradients=True)"
   ]
  },
  {
   "cell_type": "code",
   "execution_count": 9,
   "metadata": {},
   "outputs": [
    {
     "data": {
      "text/plain": [
       "tensor([[[[2.2502,    inf,    inf,    inf,    inf],\n",
       "          [   inf, 3.3711, 3.5811,    inf,    inf],\n",
       "          [   inf,    inf,    inf, 3.7678,    inf],\n",
       "          [   inf,    inf,    inf, 4.0152,    inf],\n",
       "          [   inf,    inf,    inf, 4.3625,    inf],\n",
       "          [   inf,    inf,    inf,    inf, 5.1445]],\n",
       "\n",
       "         [[3.2596, 3.8193,    inf,    inf,    inf],\n",
       "          [   inf,    inf, 4.1877,    inf,    inf],\n",
       "          [   inf,    inf,    inf, 4.1945,    inf],\n",
       "          [   inf,    inf,    inf,    inf, 4.3122],\n",
       "          [   inf,    inf,    inf,    inf, 4.4857],\n",
       "          [   inf,    inf,    inf,    inf, 5.1856]]]])"
      ]
     },
     "execution_count": 9,
     "metadata": {},
     "output_type": "execute_result"
    }
   ],
   "source": [
    "dtw2"
   ]
  },
  {
   "cell_type": "code",
   "execution_count": 10,
   "metadata": {},
   "outputs": [
    {
     "data": {
      "text/plain": [
       "tensor([[[[-0.2284, -0.6878,  0.9921, -0.7903, -0.2551,  0.3082],\n",
       "          [ 0.9736, -1.6222, -0.1253,  0.6127, -0.9669, -0.9513]],\n",
       "\n",
       "         [[ 0.8082, -0.9195, -0.6803, -0.2600,  0.4891,  0.4143],\n",
       "          [-0.0071, -0.3932, -0.7328, -0.9656, -0.8722, -0.9101]]]])"
      ]
     },
     "execution_count": 10,
     "metadata": {},
     "output_type": "execute_result"
    }
   ],
   "source": [
    "grads2"
   ]
  }
 ],
 "metadata": {
  "kernelspec": {
   "display_name": "ssstsc",
   "language": "python",
   "name": "python3"
  },
  "language_info": {
   "codemirror_mode": {
    "name": "ipython",
    "version": 3
   },
   "file_extension": ".py",
   "mimetype": "text/x-python",
   "name": "python",
   "nbconvert_exporter": "python",
   "pygments_lexer": "ipython3",
   "version": "3.10.13"
  }
 },
 "nbformat": 4,
 "nbformat_minor": 2
}
