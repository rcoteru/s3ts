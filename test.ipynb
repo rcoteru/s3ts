{
 "cells": [
  {
   "cell_type": "code",
   "execution_count": 10,
   "metadata": {},
   "outputs": [],
   "source": [
    "import os\n",
    "from time import time\n",
    "import yaml\n",
    "\n",
    "from argparse import ArgumentParser, Namespace\n",
    "\n",
    "from s3ts.api.nets.wrapper import WrapperModel\n",
    "from s3ts.helper_functions import load_dm, str_time, get_parser\n",
    "\n",
    "from pytorch_lightning import Trainer\n",
    "from pytorch_lightning.utilities.model_summary import summarize\n",
    "\n",
    "from s3ts.helper_functions import get_model\n",
    "\n",
    "import torch\n",
    "import numpy as np\n",
    "from torch import nn, Tensor\n",
    "\n",
    "import matplotlib.pyplot as plt"
   ]
  },
  {
   "cell_type": "code",
   "execution_count": 11,
   "metadata": {},
   "outputs": [],
   "source": [
    "from s3ts.api.nets.transformer import TransformerWrapper"
   ]
  },
  {
   "cell_type": "code",
   "execution_count": 12,
   "metadata": {},
   "outputs": [],
   "source": [
    "p = get_parser()\n",
    "args = p.parse_args(\"--mode ts --dataset UCI-HAR --lr 0.001 --subjects_for_test 21 --window_size 32 --window_stride 2 --batch_size 128 --encoder_architecture cnn_gap --encoder_features 20 --decoder_architecture mlp --decoder_features 32 --decoder_layers 1 --pattern_size 32 --rho 0.1 --compute_n 300 --pattern_type fftvar --num_workers 8 --max_epochs 3 --normalize --reduce_imbalance --training_dir training_cv2 --n_val_subjects 4 --weight_decayL1 0 --weight_decayL2 0\".split())"
   ]
  },
  {
   "cell_type": "code",
   "execution_count": 13,
   "metadata": {},
   "outputs": [
    {
     "name": "stdout",
     "output_type": "stream",
     "text": [
      "Loaded dataset UCI-HAR with a total of 815614 observations for window size 32\n",
      "Sampling 59084 (balanced) observations per epoch.\n",
      "Using 708997 observations for training, 106617 for validation and 25512 observations for test\n"
     ]
    }
   ],
   "source": [
    "dm = load_dm(args)\n",
    "\n",
    "# class_changes = [0] + list(np.nonzero(np.diff(dm.stsds.SCS))[0])\n",
    "# print(len(class_changes), \"number of class changes\")"
   ]
  },
  {
   "cell_type": "code",
   "execution_count": 14,
   "metadata": {},
   "outputs": [],
   "source": [
    "import pywt as wt"
   ]
  },
  {
   "cell_type": "code",
   "execution_count": 33,
   "metadata": {},
   "outputs": [],
   "source": [
    "data = dm.stsds[1000]"
   ]
  },
  {
   "cell_type": "code",
   "execution_count": 34,
   "metadata": {},
   "outputs": [
    {
     "data": {
      "text/plain": [
       "torch.Size([6, 32])"
      ]
     },
     "execution_count": 34,
     "metadata": {},
     "output_type": "execute_result"
    }
   ],
   "source": [
    "data[0].shape"
   ]
  },
  {
   "cell_type": "code",
   "execution_count": 47,
   "metadata": {},
   "outputs": [
    {
     "data": {
      "text/plain": [
       "array([ 1.,  2.,  3.,  4.,  5.,  6.,  7.,  8.,  9., 10., 11., 12., 13.,\n",
       "       14., 15., 16., 17., 18., 19., 20., 21., 22., 23., 24., 25., 26.,\n",
       "       27., 28., 29., 30., 31., 32.])"
      ]
     },
     "execution_count": 47,
     "metadata": {},
     "output_type": "execute_result"
    }
   ],
   "source": [
    "np.arange(1, data[0].shape[1]+1, dtype=np.float64)"
   ]
  },
  {
   "cell_type": "code",
   "execution_count": 75,
   "metadata": {},
   "outputs": [],
   "source": [
    "from s3ts.api.wavelets import *"
   ]
  },
  {
   "cell_type": "code",
   "execution_count": 100,
   "metadata": {},
   "outputs": [],
   "source": [
    "transform = CWT(dt=1/320)"
   ]
  },
  {
   "cell_type": "code",
   "execution_count": 101,
   "metadata": {},
   "outputs": [],
   "source": [
    "res2 = transform(dm.stsds[2000][0].unsqueeze(0))"
   ]
  },
  {
   "cell_type": "code",
   "execution_count": 102,
   "metadata": {},
   "outputs": [
    {
     "data": {
      "text/plain": [
       "torch.Size([1, 6, 49, 32])"
      ]
     },
     "execution_count": 102,
     "metadata": {},
     "output_type": "execute_result"
    }
   ],
   "source": [
    "res2.shape"
   ]
  },
  {
   "cell_type": "code",
   "execution_count": 104,
   "metadata": {},
   "outputs": [],
   "source": [
    "res = wt.cwt(dm.stsds[2000][0].numpy(), scales=np.arange(1, data[0].shape[1]+1, dtype=np.float64)/2, sampling_period=1, wavelet=\"morl\")[0]"
   ]
  },
  {
   "cell_type": "code",
   "execution_count": 106,
   "metadata": {},
   "outputs": [
    {
     "data": {
      "text/plain": [
       "<matplotlib.image.AxesImage at 0x7f231433d120>"
      ]
     },
     "execution_count": 106,
     "metadata": {},
     "output_type": "execute_result"
    },
    {
     "data": {
      "image/png": "[encoded data removed]",
      "text/plain": [
       "<Figure size 640x480 with 1 Axes>"
      ]
     },
     "metadata": {},
     "output_type": "display_data"
    }
   ],
   "source": [
    "plt.imshow(res[:,1,:])"
   ]
  },
  {
   "cell_type": "code",
   "execution_count": 103,
   "metadata": {},
   "outputs": [
    {
     "data": {
      "text/plain": [
       "<matplotlib.image.AxesImage at 0x7f23142a0730>"
      ]
     },
     "execution_count": 103,
     "metadata": {},
     "output_type": "execute_result"
    },
    {
     "data": {
      "image/png": "[encoded data removed]",
      "text/plain": [
       "<Figure size 640x480 with 1 Axes>"
      ]
     },
     "metadata": {},
     "output_type": "display_data"
    }
   ],
   "source": [
    "plt.imshow(res2[0, 5, :, :])"
   ]
  },
  {
   "cell_type": "code",
   "execution_count": 5,
   "metadata": {},
   "outputs": [],
   "source": [
    "model = TransformerWrapper(\n",
    "    dsrc=\"ts\",\n",
    "    n_dims=6,\n",
    "    n_classes=12,\n",
    "    wdw_len=32,\n",
    "    wdw_str=2,\n",
    "    latent_dims=32,\n",
    "    transformer_layers=4,\n",
    "    feedforward_mult=2,\n",
    "    n_heads=8,\n",
    "    dropout=0.1,\n",
    "    lr=0.0001,\n",
    "    voting={\"rho\": 0.1, \"n\": 1},\n",
    "    weight_decayL1=0.0001,\n",
    "    weight_decayL2=1e-5,\n",
    "    name=\"test\",\n",
    "    args=None\n",
    ")"
   ]
  },
  {
   "cell_type": "code",
   "execution_count": 6,
   "metadata": {},
   "outputs": [],
   "source": [
    "from pytorch_lightning.callbacks import ModelCheckpoint\n",
    "from pytorch_lightning.callbacks import LearningRateMonitor\n",
    "from pytorch_lightning.loggers import TensorBoardLogger\n",
    "from pytorch_lightning import Trainer, seed_everything"
   ]
  },
  {
   "cell_type": "code",
   "execution_count": 7,
   "metadata": {},
   "outputs": [],
   "source": [
    "\n",
    "def train_transformer(\n",
    "        dm, \n",
    "        model: TransformerWrapper,\n",
    "        max_epochs: int,\n",
    "        ) -> tuple[TransformerWrapper, dict]:\n",
    "    print(model.name)\n",
    "\n",
    "    # reset the random seed\n",
    "    seed_everything(42, workers=True)\n",
    "\n",
    "    # set up the trainer\n",
    "    ckpt = ModelCheckpoint(\n",
    "        monitor=\"val_re\", \n",
    "        mode=\"max\",\n",
    "        save_top_k=-1,\n",
    "        filename='{epoch}-{step}-{val_re:.2f}'\n",
    "    )\n",
    "    print(model.name)\n",
    "    tr = Trainer(default_root_dir=\"./training\", \n",
    "        accelerator=\"auto\", callbacks=[ckpt, LearningRateMonitor(logging_interval=\"epoch\")], max_epochs=max_epochs,\n",
    "        logger=TensorBoardLogger(save_dir=\"./training\", name=model.name.replace(\"|\", \"_\").replace(\",\", \"_\")))\n",
    "\n",
    "    # train the model\n",
    "    tr.fit(model=model, datamodule=dm)\n",
    "\n",
    "    # load the best weights\n",
    "    model = TransformerWrapper.load_from_checkpoint(ckpt.best_model_path)\n",
    "\n",
    "    # run the validation with the final weights\n",
    "    data = tr.test(model, datamodule=dm)\n",
    "\n",
    "    return model, data[0]"
   ]
  },
  {
   "cell_type": "code",
   "execution_count": null,
   "metadata": {},
   "outputs": [],
   "source": []
  },
  {
   "cell_type": "code",
   "execution_count": 9,
   "metadata": {},
   "outputs": [
    {
     "name": "stderr",
     "output_type": "stream",
     "text": [
      "Global seed set to 42\n",
      "GPU available: False, used: False\n",
      "TPU available: False, using: 0 TPU cores\n",
      "IPU available: False, using: 0 IPUs\n",
      "HPU available: False, using: 0 HPUs\n",
      "\n",
      "  | Name        | Type                      | Params\n",
      "----------------------------------------------------------\n",
      "0 | transformer | TimeSeriesTransformer     | 34.8 K\n",
      "1 | flatten     | Flatten                   | 0     \n",
      "2 | softmax     | Softmax                   | 0     \n",
      "3 | train_cm    | MulticlassConfusionMatrix | 0     \n",
      "4 | val_cm      | MulticlassConfusionMatrix | 0     \n",
      "5 | val_auroc   | MulticlassAUROC           | 0     \n",
      "6 | test_cm     | MulticlassConfusionMatrix | 0     \n",
      "7 | test_auroc  | MulticlassAUROC           | 0     \n",
      "----------------------------------------------------------\n",
      "34.8 K    Trainable params\n",
      "0         Non-trainable params\n",
      "34.8 K    Total params\n",
      "0.139     Total estimated model params size (MB)\n"
     ]
    },
    {
     "name": "stdout",
     "output_type": "stream",
     "text": [
      "test\n",
      "test\n",
      "test\n",
      "Testing DataLoader 0: 100%|██████████| 200/200 [00:04<00:00, 42.27it/s]ain_loss_step=1.430, val_loss_step=1.380, val_loss_epoch=1.390, val_re=0.473, val_auroc=0.898, train_loss_epoch=1.950, train_re=0.362]\n"
     ]
    },
    {
     "data": {
      "text/html": [
       "<pre style=\"white-space:pre;overflow-x:auto;line-height:normal;font-family:Menlo,'DejaVu Sans Mono',consolas,'Courier New',monospace\">┏━━━━━━━━━━━━━━━━━━━━━━━━━━━┳━━━━━━━━━━━━━━━━━━━━━━━━━━━┓\n",
       "┃<span style=\"font-weight: bold\">        Test metric        </span>┃<span style=\"font-weight: bold\">       DataLoader 0        </span>┃\n",
       "┡━━━━━━━━━━━━━━━━━━━━━━━━━━━╇━━━━━━━━━━━━━━━━━━━━━━━━━━━┩\n",
       "│<span style=\"color: #008080; text-decoration-color: #008080\">        test_auroc         </span>│<span style=\"color: #800080; text-decoration-color: #800080\">    0.9130134582519531     </span>│\n",
       "│<span style=\"color: #008080; text-decoration-color: #008080\">          test_f1          </span>│<span style=\"color: #800080; text-decoration-color: #800080\">    0.5859946608543396     </span>│\n",
       "│<span style=\"color: #008080; text-decoration-color: #008080\">         test_iou          </span>│<span style=\"color: #800080; text-decoration-color: #800080\">    0.42831742763519287    </span>│\n",
       "│<span style=\"color: #008080; text-decoration-color: #008080\">      test_loss_epoch      </span>│<span style=\"color: #800080; text-decoration-color: #800080\">    1.2478026151657104     </span>│\n",
       "│<span style=\"color: #008080; text-decoration-color: #008080\">          test_pr          </span>│<span style=\"color: #800080; text-decoration-color: #800080\">    0.6318081021308899     </span>│\n",
       "│<span style=\"color: #008080; text-decoration-color: #008080\">          test_re          </span>│<span style=\"color: #800080; text-decoration-color: #800080\">    0.5354869961738586     </span>│\n",
       "└───────────────────────────┴───────────────────────────┘\n",
       "</pre>\n"
      ],
      "text/plain": [
       "┏━━━━━━━━━━━━━━━━━━━━━━━━━━━┳━━━━━━━━━━━━━━━━━━━━━━━━━━━┓\n",
       "┃\u001b[1m \u001b[0m\u001b[1m       Test metric       \u001b[0m\u001b[1m \u001b[0m┃\u001b[1m \u001b[0m\u001b[1m      DataLoader 0       \u001b[0m\u001b[1m \u001b[0m┃\n",
       "┡━━━━━━━━━━━━━━━━━━━━━━━━━━━╇━━━━━━━━━━━━━━━━━━━━━━━━━━━┩\n",
       "│\u001b[36m \u001b[0m\u001b[36m       test_auroc        \u001b[0m\u001b[36m \u001b[0m│\u001b[35m \u001b[0m\u001b[35m   0.9130134582519531    \u001b[0m\u001b[35m \u001b[0m│\n",
       "│\u001b[36m \u001b[0m\u001b[36m         test_f1         \u001b[0m\u001b[36m \u001b[0m│\u001b[35m \u001b[0m\u001b[35m   0.5859946608543396    \u001b[0m\u001b[35m \u001b[0m│\n",
       "│\u001b[36m \u001b[0m\u001b[36m        test_iou         \u001b[0m\u001b[36m \u001b[0m│\u001b[35m \u001b[0m\u001b[35m   0.42831742763519287   \u001b[0m\u001b[35m \u001b[0m│\n",
       "│\u001b[36m \u001b[0m\u001b[36m     test_loss_epoch     \u001b[0m\u001b[36m \u001b[0m│\u001b[35m \u001b[0m\u001b[35m   1.2478026151657104    \u001b[0m\u001b[35m \u001b[0m│\n",
       "│\u001b[36m \u001b[0m\u001b[36m         test_pr         \u001b[0m\u001b[36m \u001b[0m│\u001b[35m \u001b[0m\u001b[35m   0.6318081021308899    \u001b[0m\u001b[35m \u001b[0m│\n",
       "│\u001b[36m \u001b[0m\u001b[36m         test_re         \u001b[0m\u001b[36m \u001b[0m│\u001b[35m \u001b[0m\u001b[35m   0.5354869961738586    \u001b[0m\u001b[35m \u001b[0m│\n",
       "└───────────────────────────┴───────────────────────────┘\n"
      ]
     },
     "metadata": {},
     "output_type": "display_data"
    },
    {
     "data": {
      "text/plain": [
       "(TransformerWrapper(\n",
       "   (transformer): TimeSeriesTransformer(\n",
       "     (embedding): Linear(in_features=6, out_features=32, bias=True)\n",
       "     (positional_encoder): PositionalEncoding(\n",
       "       (dropout): Dropout(p=0.1, inplace=False)\n",
       "     )\n",
       "     (decoder_output): Linear(in_features=32, out_features=12, bias=True)\n",
       "     (encoder): TransformerEncoder(\n",
       "       (layers): ModuleList(\n",
       "         (0-3): 4 x TransformerEncoderLayer(\n",
       "           (self_attn): MultiheadAttention(\n",
       "             (out_proj): NonDynamicallyQuantizableLinear(in_features=32, out_features=32, bias=True)\n",
       "           )\n",
       "           (linear1): Linear(in_features=32, out_features=64, bias=True)\n",
       "           (dropout): Dropout(p=0.1, inplace=False)\n",
       "           (linear2): Linear(in_features=64, out_features=32, bias=True)\n",
       "           (norm1): LayerNorm((32,), eps=1e-05, elementwise_affine=True)\n",
       "           (norm2): LayerNorm((32,), eps=1e-05, elementwise_affine=True)\n",
       "           (dropout1): Dropout(p=0.1, inplace=False)\n",
       "           (dropout2): Dropout(p=0.1, inplace=False)\n",
       "         )\n",
       "       )\n",
       "     )\n",
       "   )\n",
       "   (flatten): Flatten(start_dim=1, end_dim=-1)\n",
       "   (softmax): Softmax(dim=None)\n",
       "   (train_cm): MulticlassConfusionMatrix()\n",
       "   (val_cm): MulticlassConfusionMatrix()\n",
       "   (val_auroc): MulticlassAUROC()\n",
       "   (test_cm): MulticlassConfusionMatrix()\n",
       "   (test_auroc): MulticlassAUROC()\n",
       " ),\n",
       " {'test_loss_epoch': 1.2478026151657104,\n",
       "  'test_pr': 0.6318081021308899,\n",
       "  'test_re': 0.5354869961738586,\n",
       "  'test_f1': 0.5859946608543396,\n",
       "  'test_iou': 0.42831742763519287,\n",
       "  'test_auroc': 0.9130134582519531})"
      ]
     },
     "execution_count": 9,
     "metadata": {},
     "output_type": "execute_result"
    }
   ],
   "source": [
    "print(model.name)\n",
    "train_transformer(dm, model, 2)"
   ]
  }
 ],
 "metadata": {
  "kernelspec": {
   "display_name": "ssstsc",
   "language": "python",
   "name": "python3"
  },
  "language_info": {
   "codemirror_mode": {
    "name": "ipython",
    "version": 3
   },
   "file_extension": ".py",
   "mimetype": "text/x-python",
   "name": "python",
   "nbconvert_exporter": "python",
   "pygments_lexer": "ipython3",
   "version": "3.10.13"
  }
 },
 "nbformat": 4,
 "nbformat_minor": 2
}
