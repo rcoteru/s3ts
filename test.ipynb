{
 "cells": [
  {
   "cell_type": "code",
   "execution_count": 1,
   "metadata": {},
   "outputs": [],
   "source": [
    "import os\n",
    "from time import time\n",
    "import yaml\n",
    "\n",
    "from argparse import ArgumentParser, Namespace\n",
    "\n",
    "from s3ts.api.nets.wrapper import WrapperModel\n",
    "from s3ts.helper_functions import load_dm, str_time, get_parser\n",
    "\n",
    "from pytorch_lightning import Trainer\n",
    "from pytorch_lightning.utilities.model_summary import summarize\n",
    "\n",
    "from s3ts.helper_functions import get_model\n",
    "\n",
    "import torch\n",
    "import numpy as np\n",
    "\n",
    "import matplotlib.pyplot as plt"
   ]
  },
  {
   "cell_type": "code",
   "execution_count": 2,
   "metadata": {},
   "outputs": [],
   "source": [
    "p = get_parser()\n",
    "args = p.parse_args(\"--mode img --dataset UCI-HAR --lr 0.001 --subjects_for_test 21 --window_size 32 --window_stride 2 --batch_size 128 --encoder_architecture cnn_gap --encoder_features 20 --decoder_architecture mlp --decoder_features 32 --decoder_layers 1 --pattern_size 32 --rho 0.1 --compute_n 300 --pattern_type fftcoef --num_workers 8 --max_epochs 3 --normalize --reduce_imbalance --training_dir training_cv2 --n_val_subjects 4 --weight_decayL1 0 --weight_decayL2 0\".split())"
   ]
  },
  {
   "cell_type": "code",
   "execution_count": 3,
   "metadata": {},
   "outputs": [
    {
     "name": "stdout",
     "output_type": "stream",
     "text": [
      "Loaded dataset UCI-HAR with a total of 815614 observations for window size 32\n",
      "Using fft coefficients for the pattern...\n",
      "Computing dissimilarity frames...\n",
      "hash of computed patterns: UCI-HAR_1a78a5eb1918c9325882e66582ddd7cb91d05690\n",
      "Sampling 59084 (balanced) observations per epoch.\n",
      "Using 708997 observations for training, 106617 for validation and 25512 observations for test\n"
     ]
    }
   ],
   "source": [
    "dm = load_dm(args)\n",
    "\n",
    "# class_changes = [0] + list(np.nonzero(np.diff(dm.stsds.SCS))[0])\n",
    "# print(len(class_changes), \"number of class changes\")"
   ]
  },
  {
   "cell_type": "code",
   "execution_count": 46,
   "metadata": {},
   "outputs": [],
   "source": [
    "a = np.random.randn(6, 100)"
   ]
  },
  {
   "cell_type": "code",
   "execution_count": 48,
   "metadata": {},
   "outputs": [
    {
     "data": {
      "text/plain": [
       "array([[ 0.03215157],\n",
       "       [-0.04996987],\n",
       "       [-0.11088493],\n",
       "       [-0.07243088],\n",
       "       [-0.01792369],\n",
       "       [ 0.02863692]])"
      ]
     },
     "execution_count": 48,
     "metadata": {},
     "output_type": "execute_result"
    }
   ],
   "source": [
    "np.mean(a, axis=-1, keepdims=True)"
   ]
  },
  {
   "cell_type": "code",
   "execution_count": 9,
   "metadata": {},
   "outputs": [],
   "source": [
    "res = process_fft_frequencies(dm.stsds.STS.numpy(), dm.stsds.SCS.numpy(), np.fft.fftfreq(24)[:24//2])"
   ]
  },
  {
   "cell_type": "code",
   "execution_count": 75,
   "metadata": {},
   "outputs": [
    {
     "data": {
      "text/plain": [
       "array([ 0.  ,  0.04,  0.08,  0.12,  0.16,  0.2 ,  0.24,  0.28,  0.32,\n",
       "        0.36,  0.4 ,  0.44,  0.48, -0.48, -0.44, -0.4 , -0.36, -0.32,\n",
       "       -0.28, -0.24, -0.2 , -0.16, -0.12, -0.08, -0.04])"
      ]
     },
     "execution_count": 75,
     "metadata": {},
     "output_type": "execute_result"
    }
   ],
   "source": [
    "np.fft.fftfreq(25, d=1)"
   ]
  },
  {
   "cell_type": "code",
   "execution_count": 96,
   "metadata": {},
   "outputs": [
    {
     "data": {
      "text/plain": [
       "array([-2.85808594e-05-5.41998642e-17j,  4.58712553e-01+5.89340599e-01j,\n",
       "       -6.77149307e-01-3.58365335e+00j, -7.07050642e-02+4.30176867e+00j,\n",
       "        7.04246860e-01+1.48860647e-01j,  1.22052063e+00-1.54406083e+00j,\n",
       "        3.32903567e-01+4.48695709e-01j, -7.90843307e-02+1.94112239e-01j,\n",
       "       -3.97718251e-01+3.71582323e-01j, -4.07156932e-03+9.15315725e-02j,\n",
       "        1.51628765e-01-2.23280650e-01j,  6.19594030e-01+3.83596034e-01j])"
      ]
     },
     "execution_count": 96,
     "metadata": {},
     "output_type": "execute_result"
    }
   ],
   "source": [
    "res[0][1]"
   ]
  },
  {
   "cell_type": "code",
   "execution_count": null,
   "metadata": {},
   "outputs": [],
   "source": [
    "ps = 24\n",
    "l = 5\n",
    "c = 4\n",
    "x = np.zeros(ps)\n",
    "freq = np.fft.fftfreq(ps)[:ps//2]\n",
    "print(freq)\n",
    "for i, m in enumerate(res[l][c].real):\n",
    "    x += m * np.sin(2*np.pi*freq[i]*np.arange(ps))\n",
    "for i, m in enumerate(res[l][c].imag):\n",
    "    x += m * np.cos(2*np.pi*freq[i]*np.arange(ps))\n",
    "    \n",
    "plt.plot(x)"
   ]
  }
 ],
 "metadata": {
  "kernelspec": {
   "display_name": "ssstsc",
   "language": "python",
   "name": "python3"
  },
  "language_info": {
   "codemirror_mode": {
    "name": "ipython",
    "version": 3
   },
   "file_extension": ".py",
   "mimetype": "text/x-python",
   "name": "python",
   "nbconvert_exporter": "python",
   "pygments_lexer": "ipython3",
   "version": "3.10.13"
  }
 },
 "nbformat": 4,
 "nbformat_minor": 2
}
