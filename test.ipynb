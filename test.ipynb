{
 "cells": [
  {
   "cell_type": "code",
   "execution_count": 1,
   "metadata": {},
   "outputs": [],
   "source": [
    "import os\n",
    "from time import time\n",
    "import yaml\n",
    "\n",
    "from argparse import ArgumentParser, Namespace\n",
    "\n",
    "from s3ts.api.nets.wrapper import WrapperModel\n",
    "from s3ts.helper_functions import load_dm, str_time, get_parser\n",
    "\n",
    "from pytorch_lightning import Trainer\n",
    "from pytorch_lightning.utilities.model_summary import summarize\n",
    "\n",
    "from s3ts.helper_functions import get_model\n",
    "\n",
    "import torch\n",
    "import numpy as np\n",
    "\n",
    "import matplotlib.pyplot as plt"
   ]
  },
  {
   "cell_type": "code",
   "execution_count": 2,
   "metadata": {},
   "outputs": [],
   "source": [
    "p = get_parser()"
   ]
  },
  {
   "cell_type": "code",
   "execution_count": 3,
   "metadata": {},
   "outputs": [],
   "source": [
    "args = p.parse_args(\"--mode ts --dataset UCI-HAR --lr 0.001 --subjects_for_test 21 --window_size 25 --window_stride 1 --batch_size 128 --encoder_architecture cnn_gap --encoder_features 20 --decoder_architecture mlp --decoder_features 32 --decoder_layers 1 --pattern_size 32 --rho 0.1 --compute_n 300 --pattern_type syn --num_workers 8 --max_epochs 3 --normalize --reduce_imbalance --training_dir training_cv2 --n_val_subjects 4 --weight_decayL1 0 --weight_decayL2 0\".split())"
   ]
  },
  {
   "cell_type": "code",
   "execution_count": 4,
   "metadata": {},
   "outputs": [
    {
     "name": "stdout",
     "output_type": "stream",
     "text": [
      "Loaded dataset UCI-HAR with a total of 815614 observations for window size 25\n",
      "Sampling 59084 (balanced) observations per epoch.\n",
      "Using 708997 observations for training, 106617 for validation and 25512 observations for test\n",
      "1787 number of class changes\n"
     ]
    }
   ],
   "source": [
    "dm = load_dm(args)\n",
    "\n",
    "class_changes = [0] + list(np.nonzero(np.diff(dm.stsds.SCS))[0])\n",
    "print(len(class_changes), \"number of class changes\")"
   ]
  },
  {
   "cell_type": "code",
   "execution_count": 52,
   "metadata": {},
   "outputs": [],
   "source": [
    "def process_fft_full(STS): \n",
    "    # no tiene sentido hacer esto, ya que frecuencias que van a tener mayor peso son relacionadas con muchos sujetos y muchas clases a la vez\n",
    "    # como la serie temporal es larga no funciona\n",
    "    \n",
    "    fft_size = 2**int(np.log2(STS.shape[1]))\n",
    "    fft_short = np.fft.fft(STS, axis=-1, n=fft_size)\n",
    "    fft_freq = np.fft.fftfreq(fft_size, d=1/50)\n",
    "\n",
    "    return fft_short, fft_freq"
   ]
  },
  {
   "cell_type": "code",
   "execution_count": 53,
   "metadata": {},
   "outputs": [],
   "source": [
    "out = process_fft_full(dm.stsds.STS)"
   ]
  },
  {
   "cell_type": "code",
   "execution_count": 54,
   "metadata": {},
   "outputs": [],
   "source": [
    "sorted = np.argsort(np.abs(out[0]), axis=-1)\n",
    "freq_sorted = out[1][sorted]"
   ]
  },
  {
   "cell_type": "code",
   "execution_count": 55,
   "metadata": {},
   "outputs": [
    {
     "data": {
      "text/plain": [
       "(6, 1048576)"
      ]
     },
     "execution_count": 55,
     "metadata": {},
     "output_type": "execute_result"
    }
   ],
   "source": [
    "freq_sorted.shape"
   ]
  },
  {
   "cell_type": "code",
   "execution_count": 49,
   "metadata": {},
   "outputs": [
    {
     "data": {
      "text/plain": [
       "9.5367431640625e-07"
      ]
     },
     "execution_count": 49,
     "metadata": {},
     "output_type": "execute_result"
    }
   ],
   "source": [
    "1/1048576"
   ]
  },
  {
   "cell_type": "code",
   "execution_count": 60,
   "metadata": {},
   "outputs": [
    {
     "data": {
      "text/plain": [
       "array([[ 4.29153442e-04, -4.29153442e-04, -1.62601471e-02,\n",
       "         1.62601471e-02, -4.95910645e-03,  4.95910645e-03,\n",
       "         2.86102295e-03, -2.86102295e-03, -1.71184540e-02,\n",
       "         1.71184540e-02,  2.95639038e-03, -2.95639038e-03,\n",
       "         2.38418579e-03, -2.38418579e-03,  3.00407410e-03,\n",
       "        -3.00407410e-03,  2.57492065e-03, -2.57492065e-03,\n",
       "         2.52723694e-03, -2.52723694e-03],\n",
       "       [-2.71797180e-03,  2.71797180e-03, -4.95910645e-03,\n",
       "         4.95910645e-03,  1.43051147e-04, -1.43051147e-04,\n",
       "        -2.81333923e-03,  2.81333923e-03, -2.86102295e-03,\n",
       "         2.86102295e-03, -2.67028809e-03,  2.67028809e-03,\n",
       "         2.95639038e-03, -2.95639038e-03, -3.00407410e-03,\n",
       "         3.00407410e-03, -2.57492065e-03,  2.57492065e-03,\n",
       "        -2.52723694e-03,  2.52723694e-03],\n",
       "       [-4.72068787e-03,  4.72068787e-03,  3.24249268e-03,\n",
       "        -3.24249268e-03,  9.05990601e-04, -9.05990601e-04,\n",
       "        -2.86102295e-03,  2.86102295e-03, -1.95503235e-03,\n",
       "         1.95503235e-03, -6.67572021e-04,  6.67572021e-04,\n",
       "        -2.71797180e-03,  2.71797180e-03,  3.00407410e-03,\n",
       "        -3.00407410e-03,  2.52723694e-03, -2.52723694e-03,\n",
       "         2.57492065e-03, -2.57492065e-03],\n",
       "       [-2.71797180e-03,  2.71797180e-03, -3.44276428e-02,\n",
       "         3.44276428e-02,  2.74658203e-02, -2.74658203e-02,\n",
       "        -2.78949738e-02,  2.78949738e-02,  3.17573547e-02,\n",
       "        -3.17573547e-02, -3.24249268e-02,  3.24249268e-02,\n",
       "        -3.27587128e-02,  3.27587128e-02, -4.29153442e-04,\n",
       "         4.29153442e-04, -2.81333923e-02,  2.81333923e-02,\n",
       "         3.19957733e-02, -3.19957733e-02],\n",
       "       [ 8.33702087e-01, -8.33702087e-01,  8.43715668e-01,\n",
       "        -8.43715668e-01, -7.80153275e-01,  7.80153275e-01,\n",
       "         8.38184357e-01, -8.38184357e-01,  8.05521011e-01,\n",
       "        -8.05521011e-01,  3.19957733e-02, -3.19957733e-02,\n",
       "         8.45146179e-01, -8.45146179e-01, -8.76235962e-01,\n",
       "         8.76235962e-01, -8.85343552e-01,  8.85343552e-01,\n",
       "         8.74805450e-01, -8.74805450e-01],\n",
       "       [ 2.07901001e-02, -2.07901001e-02,  2.43186951e-03,\n",
       "        -2.43186951e-03,  2.15053558e-02, -2.15053558e-02,\n",
       "        -5.97953796e-02,  5.97953796e-02,  2.47955322e-02,\n",
       "        -2.47955322e-02,  6.54220581e-02, -6.54220581e-02,\n",
       "        -2.32219696e-02,  2.32219696e-02,  9.36985016e-02,\n",
       "        -9.36985016e-02, -3.51428986e-02,  3.51428986e-02,\n",
       "         2.57492065e-03, -2.57492065e-03]])"
      ]
     },
     "execution_count": 60,
     "metadata": {},
     "output_type": "execute_result"
    }
   ],
   "source": [
    "freq_sorted[:,-20:]"
   ]
  }
 ],
 "metadata": {
  "kernelspec": {
   "display_name": "ssstsc",
   "language": "python",
   "name": "python3"
  },
  "language_info": {
   "codemirror_mode": {
    "name": "ipython",
    "version": 3
   },
   "file_extension": ".py",
   "mimetype": "text/x-python",
   "name": "python",
   "nbconvert_exporter": "python",
   "pygments_lexer": "ipython3",
   "version": "3.10.13"
  }
 },
 "nbformat": 4,
 "nbformat_minor": 2
}
